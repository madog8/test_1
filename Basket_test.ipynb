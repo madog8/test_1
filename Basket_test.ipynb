{
 "cells": [
  {
   "cell_type": "code",
   "execution_count": 1,
   "id": "8ae2085c-2555-4292-9c45-185e3d4c1693",
   "metadata": {},
   "outputs": [],
   "source": [
    "import pandas as pd\n",
    "import seaborn as sb\n",
    "from matplotlib import pyplot as plt\n",
    "from sklearn.datasets import fetch_california_housing\n",
    "import seaborn as sns\n"
   ]
  },
  {
   "cell_type": "code",
   "execution_count": 2,
   "id": "7c53ae91-9039-4d32-81f8-30d780cdd92f",
   "metadata": {},
   "outputs": [],
   "source": [
    "df_main = pd.read_excel('db_main_12_2023.xlsx', index_col=0)"
   ]
  },
  {
   "cell_type": "code",
   "execution_count": 4,
   "id": "c8d03b9a",
   "metadata": {},
   "outputs": [],
   "source": [
    "df = df_main"
   ]
  },
  {
   "cell_type": "code",
   "execution_count": 7,
   "id": "68491c33",
   "metadata": {},
   "outputs": [
    {
     "data": {
      "text/html": [
       "<div>\n",
       "<style scoped>\n",
       "    .dataframe tbody tr th:only-of-type {\n",
       "        vertical-align: middle;\n",
       "    }\n",
       "\n",
       "    .dataframe tbody tr th {\n",
       "        vertical-align: top;\n",
       "    }\n",
       "\n",
       "    .dataframe thead th {\n",
       "        text-align: right;\n",
       "    }\n",
       "</style>\n",
       "<table border=\"1\" class=\"dataframe\">\n",
       "  <thead>\n",
       "    <tr style=\"text-align: right;\">\n",
       "      <th></th>\n",
       "      <th>data_game</th>\n",
       "      <th>time_match</th>\n",
       "      <th>name_champ</th>\n",
       "      <th>kef_1</th>\n",
       "      <th>kef_2</th>\n",
       "      <th>tot</th>\n",
       "      <th>fora</th>\n",
       "      <th>tot_ch</th>\n",
       "      <th>tot_ind_1</th>\n",
       "      <th>tot_ind_2</th>\n",
       "      <th>...</th>\n",
       "      <th>diff_tot4-to4</th>\n",
       "      <th>winner_4</th>\n",
       "      <th>score_fin</th>\n",
       "      <th>sc1_fin</th>\n",
       "      <th>sc2_fin</th>\n",
       "      <th>tot_fin</th>\n",
       "      <th>diff_tf-to3</th>\n",
       "      <th>winner_game</th>\n",
       "      <th>raz_tf-t4q</th>\n",
       "      <th>record_8</th>\n",
       "    </tr>\n",
       "  </thead>\n",
       "  <tbody>\n",
       "    <tr>\n",
       "      <th>Минск — Пари Нижний Новгород</th>\n",
       "      <td>01.10.2023</td>\n",
       "      <td>14:00</td>\n",
       "      <td>Лига ВТБ</td>\n",
       "      <td>7.00</td>\n",
       "      <td>1.10</td>\n",
       "      <td>150.5</td>\n",
       "      <td>16.0</td>\n",
       "      <td>37.6</td>\n",
       "      <td>67.25</td>\n",
       "      <td>83.25</td>\n",
       "      <td>...</td>\n",
       "      <td>3.5</td>\n",
       "      <td>1</td>\n",
       "      <td>60:89</td>\n",
       "      <td>60</td>\n",
       "      <td>89</td>\n",
       "      <td>149</td>\n",
       "      <td>3.5</td>\n",
       "      <td>2</td>\n",
       "      <td>NaN</td>\n",
       "      <td>1</td>\n",
       "    </tr>\n",
       "    <tr>\n",
       "      <th>Руна — Автодор</th>\n",
       "      <td>01.10.2023</td>\n",
       "      <td>16:00</td>\n",
       "      <td>Лига ВТБ</td>\n",
       "      <td>1.60</td>\n",
       "      <td>2.35</td>\n",
       "      <td>160.5</td>\n",
       "      <td>4.0</td>\n",
       "      <td>40.1</td>\n",
       "      <td>82.25</td>\n",
       "      <td>78.25</td>\n",
       "      <td>...</td>\n",
       "      <td>-7.5</td>\n",
       "      <td>2</td>\n",
       "      <td>87:79</td>\n",
       "      <td>87</td>\n",
       "      <td>79</td>\n",
       "      <td>166</td>\n",
       "      <td>-7.5</td>\n",
       "      <td>1</td>\n",
       "      <td>NaN</td>\n",
       "      <td>1</td>\n",
       "    </tr>\n",
       "    <tr>\n",
       "      <th>Япония (ж) — Филиппины (ж)</th>\n",
       "      <td>01.10.2023</td>\n",
       "      <td>12:30</td>\n",
       "      <td>Жен. Азиатские Игры. Китай</td>\n",
       "      <td>1.80</td>\n",
       "      <td>1.90</td>\n",
       "      <td>151.5</td>\n",
       "      <td>3.0</td>\n",
       "      <td>37.9</td>\n",
       "      <td>77.25</td>\n",
       "      <td>74.25</td>\n",
       "      <td>...</td>\n",
       "      <td>14.5</td>\n",
       "      <td>1</td>\n",
       "      <td>96:59</td>\n",
       "      <td>96</td>\n",
       "      <td>59</td>\n",
       "      <td>155</td>\n",
       "      <td>14.5</td>\n",
       "      <td>1</td>\n",
       "      <td>NaN</td>\n",
       "      <td>1</td>\n",
       "    </tr>\n",
       "    <tr>\n",
       "      <th>Казахстан (ж) — Гонконг (ж)</th>\n",
       "      <td>01.10.2023</td>\n",
       "      <td>12:30</td>\n",
       "      <td>Жен. Азиатские Игры. Китай</td>\n",
       "      <td>1.25</td>\n",
       "      <td>3.55</td>\n",
       "      <td>130.5</td>\n",
       "      <td>7.0</td>\n",
       "      <td>32.6</td>\n",
       "      <td>68.75</td>\n",
       "      <td>61.75</td>\n",
       "      <td>...</td>\n",
       "      <td>2.5</td>\n",
       "      <td>2</td>\n",
       "      <td>56:70</td>\n",
       "      <td>56</td>\n",
       "      <td>70</td>\n",
       "      <td>126</td>\n",
       "      <td>2.5</td>\n",
       "      <td>2</td>\n",
       "      <td>NaN</td>\n",
       "      <td>1</td>\n",
       "    </tr>\n",
       "    <tr>\n",
       "      <th>Китай (ж) — Индия (ж)</th>\n",
       "      <td>01.10.2023</td>\n",
       "      <td>15:00</td>\n",
       "      <td>Жен. Азиатские Игры. Китай</td>\n",
       "      <td>1.85</td>\n",
       "      <td>1.85</td>\n",
       "      <td>151.5</td>\n",
       "      <td>3.0</td>\n",
       "      <td>37.9</td>\n",
       "      <td>77.25</td>\n",
       "      <td>74.25</td>\n",
       "      <td>...</td>\n",
       "      <td>-2.5</td>\n",
       "      <td>1</td>\n",
       "      <td>111:53</td>\n",
       "      <td>111</td>\n",
       "      <td>53</td>\n",
       "      <td>164</td>\n",
       "      <td>-2.5</td>\n",
       "      <td>1</td>\n",
       "      <td>NaN</td>\n",
       "      <td>1</td>\n",
       "    </tr>\n",
       "    <tr>\n",
       "      <th>...</th>\n",
       "      <td>...</td>\n",
       "      <td>...</td>\n",
       "      <td>...</td>\n",
       "      <td>...</td>\n",
       "      <td>...</td>\n",
       "      <td>...</td>\n",
       "      <td>...</td>\n",
       "      <td>...</td>\n",
       "      <td>...</td>\n",
       "      <td>...</td>\n",
       "      <td>...</td>\n",
       "      <td>...</td>\n",
       "      <td>...</td>\n",
       "      <td>...</td>\n",
       "      <td>...</td>\n",
       "      <td>...</td>\n",
       "      <td>...</td>\n",
       "      <td>...</td>\n",
       "      <td>...</td>\n",
       "      <td>...</td>\n",
       "      <td>...</td>\n",
       "    </tr>\n",
       "    <tr>\n",
       "      <th>Ирони Нагария — Элицур Шомрон</th>\n",
       "      <td>08.03.2024</td>\n",
       "      <td>13:30</td>\n",
       "      <td>Израиль. Национальная лига</td>\n",
       "      <td>1.50</td>\n",
       "      <td>2.42</td>\n",
       "      <td>172.5</td>\n",
       "      <td>4.5</td>\n",
       "      <td>43.1</td>\n",
       "      <td>88.50</td>\n",
       "      <td>84.00</td>\n",
       "      <td>...</td>\n",
       "      <td>-7.5</td>\n",
       "      <td>1</td>\n",
       "      <td>100:81</td>\n",
       "      <td>100</td>\n",
       "      <td>81</td>\n",
       "      <td>181</td>\n",
       "      <td>-7.5</td>\n",
       "      <td>1</td>\n",
       "      <td>-2.5</td>\n",
       "      <td>1</td>\n",
       "    </tr>\n",
       "    <tr>\n",
       "      <th>Элитцур Нетания — Элитцур Ашкелон</th>\n",
       "      <td>08.03.2024</td>\n",
       "      <td>13:45</td>\n",
       "      <td>Израиль. Национальная лига</td>\n",
       "      <td>1.67</td>\n",
       "      <td>2.07</td>\n",
       "      <td>160.5</td>\n",
       "      <td>2.5</td>\n",
       "      <td>40.1</td>\n",
       "      <td>81.50</td>\n",
       "      <td>79.00</td>\n",
       "      <td>...</td>\n",
       "      <td>2.5</td>\n",
       "      <td>2</td>\n",
       "      <td>74:77</td>\n",
       "      <td>74</td>\n",
       "      <td>77</td>\n",
       "      <td>151</td>\n",
       "      <td>2.5</td>\n",
       "      <td>2</td>\n",
       "      <td>-3.5</td>\n",
       "      <td>1</td>\n",
       "    </tr>\n",
       "    <tr>\n",
       "      <th>Пелита Джая Джакарта — Сатья Вакана</th>\n",
       "      <td>08.03.2024</td>\n",
       "      <td>14:00</td>\n",
       "      <td>Индонезия. IBL</td>\n",
       "      <td>1.85</td>\n",
       "      <td>1.85</td>\n",
       "      <td>151.5</td>\n",
       "      <td>23.5</td>\n",
       "      <td>37.9</td>\n",
       "      <td>87.50</td>\n",
       "      <td>64.00</td>\n",
       "      <td>...</td>\n",
       "      <td>4.5</td>\n",
       "      <td>1</td>\n",
       "      <td>89:59</td>\n",
       "      <td>89</td>\n",
       "      <td>59</td>\n",
       "      <td>148</td>\n",
       "      <td>4.5</td>\n",
       "      <td>1</td>\n",
       "      <td>1.5</td>\n",
       "      <td>1</td>\n",
       "    </tr>\n",
       "    <tr>\n",
       "      <th>Хапоэль Холон — Ирони Нес Циона</th>\n",
       "      <td>08.03.2024</td>\n",
       "      <td>14:00</td>\n",
       "      <td>Израиль. Суперлига</td>\n",
       "      <td>1.34</td>\n",
       "      <td>3.25</td>\n",
       "      <td>163.5</td>\n",
       "      <td>7.5</td>\n",
       "      <td>40.9</td>\n",
       "      <td>85.50</td>\n",
       "      <td>78.00</td>\n",
       "      <td>...</td>\n",
       "      <td>8.5</td>\n",
       "      <td>1</td>\n",
       "      <td>81:73</td>\n",
       "      <td>81</td>\n",
       "      <td>73</td>\n",
       "      <td>154</td>\n",
       "      <td>8.5</td>\n",
       "      <td>1</td>\n",
       "      <td>3.5</td>\n",
       "      <td>1</td>\n",
       "    </tr>\n",
       "    <tr>\n",
       "      <th>Чанхуа БЛЛ — Бэнк оф Тайвань</th>\n",
       "      <td>08.03.2024</td>\n",
       "      <td>14:00</td>\n",
       "      <td>Тайвань. Суперлига</td>\n",
       "      <td>3.35</td>\n",
       "      <td>1.28</td>\n",
       "      <td>167.5</td>\n",
       "      <td>8.5</td>\n",
       "      <td>41.9</td>\n",
       "      <td>79.50</td>\n",
       "      <td>88.00</td>\n",
       "      <td>...</td>\n",
       "      <td>-3.5</td>\n",
       "      <td>1</td>\n",
       "      <td>77:71</td>\n",
       "      <td>77</td>\n",
       "      <td>71</td>\n",
       "      <td>148</td>\n",
       "      <td>-3.5</td>\n",
       "      <td>1</td>\n",
       "      <td>1.5</td>\n",
       "      <td>1</td>\n",
       "    </tr>\n",
       "  </tbody>\n",
       "</table>\n",
       "<p>12592 rows × 90 columns</p>\n",
       "</div>"
      ],
      "text/plain": [
       "                                      data_game time_match  \\\n",
       "Минск — Пари Нижний Новгород         01.10.2023      14:00   \n",
       "Руна — Автодор                       01.10.2023      16:00   \n",
       "Япония (ж) — Филиппины (ж)           01.10.2023      12:30   \n",
       "Казахстан (ж) — Гонконг (ж)          01.10.2023      12:30   \n",
       "Китай (ж) — Индия (ж)                01.10.2023      15:00   \n",
       "...                                         ...        ...   \n",
       "Ирони Нагария — Элицур Шомрон        08.03.2024      13:30   \n",
       "Элитцур Нетания — Элитцур Ашкелон    08.03.2024      13:45   \n",
       "Пелита Джая Джакарта — Сатья Вакана  08.03.2024      14:00   \n",
       "Хапоэль Холон — Ирони Нес Циона      08.03.2024      14:00   \n",
       "Чанхуа БЛЛ — Бэнк оф Тайвань         08.03.2024      14:00   \n",
       "\n",
       "                                                     name_champ  kef_1  kef_2  \\\n",
       "Минск — Пари Нижний Новгород                           Лига ВТБ   7.00   1.10   \n",
       "Руна — Автодор                                         Лига ВТБ   1.60   2.35   \n",
       "Япония (ж) — Филиппины (ж)           Жен. Азиатские Игры. Китай   1.80   1.90   \n",
       "Казахстан (ж) — Гонконг (ж)          Жен. Азиатские Игры. Китай   1.25   3.55   \n",
       "Китай (ж) — Индия (ж)                Жен. Азиатские Игры. Китай   1.85   1.85   \n",
       "...                                                         ...    ...    ...   \n",
       "Ирони Нагария — Элицур Шомрон        Израиль. Национальная лига   1.50   2.42   \n",
       "Элитцур Нетания — Элитцур Ашкелон    Израиль. Национальная лига   1.67   2.07   \n",
       "Пелита Джая Джакарта — Сатья Вакана              Индонезия. IBL   1.85   1.85   \n",
       "Хапоэль Холон — Ирони Нес Циона              Израиль. Суперлига   1.34   3.25   \n",
       "Чанхуа БЛЛ — Бэнк оф Тайвань                 Тайвань. Суперлига   3.35   1.28   \n",
       "\n",
       "                                       tot  fora  tot_ch  tot_ind_1  \\\n",
       "Минск — Пари Нижний Новгород         150.5  16.0    37.6      67.25   \n",
       "Руна — Автодор                       160.5   4.0    40.1      82.25   \n",
       "Япония (ж) — Филиппины (ж)           151.5   3.0    37.9      77.25   \n",
       "Казахстан (ж) — Гонконг (ж)          130.5   7.0    32.6      68.75   \n",
       "Китай (ж) — Индия (ж)                151.5   3.0    37.9      77.25   \n",
       "...                                    ...   ...     ...        ...   \n",
       "Ирони Нагария — Элицур Шомрон        172.5   4.5    43.1      88.50   \n",
       "Элитцур Нетания — Элитцур Ашкелон    160.5   2.5    40.1      81.50   \n",
       "Пелита Джая Джакарта — Сатья Вакана  151.5  23.5    37.9      87.50   \n",
       "Хапоэль Холон — Ирони Нес Циона      163.5   7.5    40.9      85.50   \n",
       "Чанхуа БЛЛ — Бэнк оф Тайвань         167.5   8.5    41.9      79.50   \n",
       "\n",
       "                                     tot_ind_2  ...  diff_tot4-to4  winner_4  \\\n",
       "Минск — Пари Нижний Новгород             83.25  ...            3.5         1   \n",
       "Руна — Автодор                           78.25  ...           -7.5         2   \n",
       "Япония (ж) — Филиппины (ж)               74.25  ...           14.5         1   \n",
       "Казахстан (ж) — Гонконг (ж)              61.75  ...            2.5         2   \n",
       "Китай (ж) — Индия (ж)                    74.25  ...           -2.5         1   \n",
       "...                                        ...  ...            ...       ...   \n",
       "Ирони Нагария — Элицур Шомрон            84.00  ...           -7.5         1   \n",
       "Элитцур Нетания — Элитцур Ашкелон        79.00  ...            2.5         2   \n",
       "Пелита Джая Джакарта — Сатья Вакана      64.00  ...            4.5         1   \n",
       "Хапоэль Холон — Ирони Нес Циона          78.00  ...            8.5         1   \n",
       "Чанхуа БЛЛ — Бэнк оф Тайвань             88.00  ...           -3.5         1   \n",
       "\n",
       "                                     score_fin  sc1_fin  sc2_fin  tot_fin  \\\n",
       "Минск — Пари Нижний Новгород             60:89       60       89      149   \n",
       "Руна — Автодор                           87:79       87       79      166   \n",
       "Япония (ж) — Филиппины (ж)               96:59       96       59      155   \n",
       "Казахстан (ж) — Гонконг (ж)              56:70       56       70      126   \n",
       "Китай (ж) — Индия (ж)                   111:53      111       53      164   \n",
       "...                                        ...      ...      ...      ...   \n",
       "Ирони Нагария — Элицур Шомрон           100:81      100       81      181   \n",
       "Элитцур Нетания — Элитцур Ашкелон        74:77       74       77      151   \n",
       "Пелита Джая Джакарта — Сатья Вакана      89:59       89       59      148   \n",
       "Хапоэль Холон — Ирони Нес Циона          81:73       81       73      154   \n",
       "Чанхуа БЛЛ — Бэнк оф Тайвань             77:71       77       71      148   \n",
       "\n",
       "                                     diff_tf-to3  winner_game  raz_tf-t4q  \\\n",
       "Минск — Пари Нижний Новгород                 3.5            2         NaN   \n",
       "Руна — Автодор                              -7.5            1         NaN   \n",
       "Япония (ж) — Филиппины (ж)                  14.5            1         NaN   \n",
       "Казахстан (ж) — Гонконг (ж)                  2.5            2         NaN   \n",
       "Китай (ж) — Индия (ж)                       -2.5            1         NaN   \n",
       "...                                          ...          ...         ...   \n",
       "Ирони Нагария — Элицур Шомрон               -7.5            1        -2.5   \n",
       "Элитцур Нетания — Элитцур Ашкелон            2.5            2        -3.5   \n",
       "Пелита Джая Джакарта — Сатья Вакана          4.5            1         1.5   \n",
       "Хапоэль Холон — Ирони Нес Циона              8.5            1         3.5   \n",
       "Чанхуа БЛЛ — Бэнк оф Тайвань                -3.5            1         1.5   \n",
       "\n",
       "                                     record_8  \n",
       "Минск — Пари Нижний Новгород                1  \n",
       "Руна — Автодор                              1  \n",
       "Япония (ж) — Филиппины (ж)                  1  \n",
       "Казахстан (ж) — Гонконг (ж)                 1  \n",
       "Китай (ж) — Индия (ж)                       1  \n",
       "...                                       ...  \n",
       "Ирони Нагария — Элицур Шомрон               1  \n",
       "Элитцур Нетания — Элитцур Ашкелон           1  \n",
       "Пелита Джая Джакарта — Сатья Вакана         1  \n",
       "Хапоэль Холон — Ирони Нес Циона             1  \n",
       "Чанхуа БЛЛ — Бэнк оф Тайвань                1  \n",
       "\n",
       "[12592 rows x 90 columns]"
      ]
     },
     "execution_count": 7,
     "metadata": {},
     "output_type": "execute_result"
    }
   ],
   "source": [
    "df"
   ]
  },
  {
   "cell_type": "markdown",
   "id": "65e2f098",
   "metadata": {},
   "source": [
    "### расчет 4 четверть"
   ]
  },
  {
   "cell_type": "code",
   "execution_count": 3,
   "id": "9778afe7",
   "metadata": {},
   "outputs": [],
   "source": [
    "df = df_main[['name_champ', 'kef_1', 'kef_2', 'tot', 'fora', 'tot_after_3q', 'sc1_in_q4', 'sc2_in_q4','ABS_sc_q4', 'tot_in_4_on_game', 'raz_tot_4q-tot', \n",
    "              'tot_fin','raz_tf-t4q','winner_game' ]]"
   ]
  },
  {
   "cell_type": "code",
   "execution_count": 5,
   "id": "e6da1d4c",
   "metadata": {},
   "outputs": [],
   "source": [
    "df.insert(df.columns.get_loc('name_champ') + 1, 'teem_1', '')\n",
    "df.insert(df.columns.get_loc('teem_1') + 1, 'teem_2', '')\n",
    "df.insert(df.columns.get_loc('name_champ') + 1, 'sex', '')\n",
    "df.insert(df.columns.get_loc('tot_after_3q') + 1, 'raz_t3-tot', '')\n",
    "df.insert(df.columns.get_loc('winner_game') + 1, 'rezult', '')"
   ]
  },
  {
   "cell_type": "code",
   "execution_count": 9,
   "id": "4fa3bd72",
   "metadata": {},
   "outputs": [
    {
     "data": {
      "text/plain": [
       "Index(['data_game', 'time_match', 'name_champ', 'sex', 'teem_1', 'teem_2',\n",
       "       'kef_1', 'kef_2', 'tot', 'fora', 'tot_ch', 'tot_ind_1', 'tot_ind_2',\n",
       "       't_i_onq_1', 't_i_onq_2', 'favorite', 'in_list', 'a11', 'a12', 'a13',\n",
       "       'a14', 'a31', 'a41', 'a42', 'record_1', 'sc1_1t', 'sc1_2t', 'tot1',\n",
       "       'diff_tot1-tot', 'winner_1', 'kef_1_on_2q', 'kef_2_on_2q', 'tot_on_2',\n",
       "       'kef_bet_on2', 'record_2', 'sc1_in_q2', 'sc2_in_q2', 'tot_in_2_on_2',\n",
       "       'record_3', 'sc2_1t', 'sc2_2t', 'tot2', 'diff_tot2-tot', 'winner_2',\n",
       "       'kef_1_on_3q', 'kef_2_on_3q', 'tot_on_3', 'kef_bet_on3', 'tot_hf',\n",
       "       'kef_bet_hf_TB', 'kef_bet_hf_TM', 'record_4', 'sc1_in_q3', 'sc2_in_q3',\n",
       "       'ABS_in_3q', 'tot_in_3_on_3', 'kef_in3_on3', 'record_5', 'sc3_1t',\n",
       "       'sc3_2t', 'tot3', 'diff_tot3-tot', 'diff_tot3-to3', 'winner_3',\n",
       "       'sc_aft_3q', 'sc_af_3q_1', 'sc_af_3q_2', 'ABS_aft_3q', 'tot_after_3q',\n",
       "       'raz_t3-tot', 'diff_ta3-tot', 'tot_on_4', 'record_6', 'sc1_in_q4',\n",
       "       'sc2_in_q4', 'ABS_sc_q4', 'tot_in_4_on_game', 'raz_tot_4q-tot',\n",
       "       'kef_game_TM', 'algorithm', 'record_7', 'sc4_1t', 'sc4_2t', 'tot4',\n",
       "       'diff_tot4-to4', 'winner_4', 'score_fin', 'sc1_fin', 'sc2_fin',\n",
       "       'tot_fin', 'diff_tf-to3', 'winner_game', 'rezult', 'raz_tf-t4q',\n",
       "       'record_8'],\n",
       "      dtype='object')"
      ]
     },
     "execution_count": 9,
     "metadata": {},
     "output_type": "execute_result"
    }
   ],
   "source": [
    "df.columns"
   ]
  },
  {
   "cell_type": "code",
   "execution_count": 6,
   "id": "12705ce8",
   "metadata": {},
   "outputs": [],
   "source": [
    "#######  добавление значений\n",
    "for index, row in df.iterrows():\n",
    "    teems = str(index)\n",
    "    a = teems.split(' — ')\n",
    "    df.at[index, 'teem_1'] = a[0]\n",
    "    df.at[index, 'teem_2'] = a[1]\n",
    "    \n",
    "    if str('(ж)') in teems:\n",
    "        df.at[index, 'sex'] = 'w' \n",
    "    else:\n",
    "        df.at[index, 'sex'] = 'm'\n",
    "        \n",
    "    df.at[index, 'raz_t3-tot'] = row['tot_after_3q'] - row['tot']\n",
    "    \n",
    "    if row['winner_game'] == 0 or row['raz_tf-t4q'] > 0:\n",
    "        df.at[index, 'rezult'] = 0\n",
    "    else:\n",
    "        df.at[index, 'rezult'] = 1\n",
    "    \n",
    "    "
   ]
  },
  {
   "cell_type": "code",
   "execution_count": 9,
   "id": "35ddca9e",
   "metadata": {
    "scrolled": true
   },
   "outputs": [
    {
     "name": "stdout",
     "output_type": "stream",
     "text": [
      "<class 'pandas.core.frame.DataFrame'>\n",
      "Index: 12884 entries, Минск — Пари Нижний Новгород to Аманкай Клаб Ла Риоха — Суарди\n",
      "Data columns (total 95 columns):\n",
      " #   Column            Non-Null Count  Dtype  \n",
      "---  ------            --------------  -----  \n",
      " 0   data_game         11135 non-null  object \n",
      " 1   time_match        9835 non-null   object \n",
      " 2   name_champ        11358 non-null  object \n",
      " 3   sex               12884 non-null  object \n",
      " 4   teem_1            12884 non-null  object \n",
      " 5   teem_2            12884 non-null  object \n",
      " 6   kef_1             12884 non-null  float64\n",
      " 7   kef_2             12884 non-null  float64\n",
      " 8   tot               12884 non-null  float64\n",
      " 9   fora              12884 non-null  float64\n",
      " 10  tot_ch            12884 non-null  float64\n",
      " 11  tot_ind_1         12884 non-null  float64\n",
      " 12  tot_ind_2         12884 non-null  float64\n",
      " 13  t_i_onq_1         12884 non-null  float64\n",
      " 14  t_i_onq_2         12884 non-null  float64\n",
      " 15  favorite          12884 non-null  int64  \n",
      " 16  in_list           11358 non-null  float64\n",
      " 17  a11               3533 non-null   float64\n",
      " 18  a12               3143 non-null   float64\n",
      " 19  a13               105 non-null    float64\n",
      " 20  a14               1578 non-null   float64\n",
      " 21  a31               524 non-null    float64\n",
      " 22  a41               3111 non-null   float64\n",
      " 23  a42               1876 non-null   float64\n",
      " 24  record_1          12884 non-null  int64  \n",
      " 25  sc1_1t            9689 non-null   float64\n",
      " 26  sc1_2t            9689 non-null   float64\n",
      " 27  tot1              9689 non-null   float64\n",
      " 28  diff_tot1-tot     9689 non-null   float64\n",
      " 29  winner_1          9689 non-null   float64\n",
      " 30  kef_1_on_2q       9620 non-null   float64\n",
      " 31  kef_2_on_2q       9620 non-null   float64\n",
      " 32  tot_on_2          9617 non-null   float64\n",
      " 33  kef_bet_on2       4978 non-null   float64\n",
      " 34  record_2          12884 non-null  int64  \n",
      " 35  sc1_in_q2         0 non-null      float64\n",
      " 36  sc2_in_q2         0 non-null      float64\n",
      " 37  tot_in_2_on_2     0 non-null      float64\n",
      " 38  record_3          12884 non-null  int64  \n",
      " 39  sc2_1t            9642 non-null   float64\n",
      " 40  sc2_2t            9642 non-null   float64\n",
      " 41  tot2              9642 non-null   float64\n",
      " 42  diff_tot2-tot     9642 non-null   float64\n",
      " 43  winner_2          10764 non-null  float64\n",
      " 44  kef_1_on_3q       10703 non-null  float64\n",
      " 45  kef_2_on_3q       10703 non-null  float64\n",
      " 46  tot_on_3          10698 non-null  float64\n",
      " 47  kef_bet_on3       10698 non-null  float64\n",
      " 48  tot_hf            10691 non-null  float64\n",
      " 49  kef_bet_hf_TB     10691 non-null  float64\n",
      " 50  kef_bet_hf_TM     10691 non-null  float64\n",
      " 51  record_4          12884 non-null  int64  \n",
      " 52  sc1_in_q3         539 non-null    float64\n",
      " 53  sc2_in_q3         539 non-null    float64\n",
      " 54  ABS_in_3q         539 non-null    float64\n",
      " 55  tot_in_3_on_3     841 non-null    float64\n",
      " 56  kef_in3_on3       539 non-null    float64\n",
      " 57  record_5          12884 non-null  int64  \n",
      " 58  sc3_1t            9295 non-null   float64\n",
      " 59  sc3_2t            9295 non-null   float64\n",
      " 60  tot3              9295 non-null   float64\n",
      " 61  diff_tot3-tot     9295 non-null   float64\n",
      " 62  diff_tot3-to3     9240 non-null   float64\n",
      " 63  winner_3          10468 non-null  float64\n",
      " 64  sc_aft_3q         4993 non-null   object \n",
      " 65  sc_af_3q_1        10453 non-null  float64\n",
      " 66  sc_af_3q_2        10453 non-null  float64\n",
      " 67  ABS_aft_3q        10453 non-null  float64\n",
      " 68  tot_after_3q      10453 non-null  float64\n",
      " 69  raz_t3-tot        10452 non-null  object \n",
      " 70  diff_ta3-tot      10453 non-null  float64\n",
      " 71  tot_on_4          10453 non-null  float64\n",
      " 72  record_6          12884 non-null  int64  \n",
      " 73  sc1_in_q4         6914 non-null   float64\n",
      " 74  sc2_in_q4         6914 non-null   float64\n",
      " 75  ABS_sc_q4         6914 non-null   float64\n",
      " 76  tot_in_4_on_game  6914 non-null   float64\n",
      " 77  raz_tot_4q-tot    6914 non-null   float64\n",
      " 78  kef_game_TM       199 non-null    float64\n",
      " 79  algorithm         7187 non-null   float64\n",
      " 80  record_7          12884 non-null  int64  \n",
      " 81  sc4_1t            9294 non-null   float64\n",
      " 82  sc4_2t            9294 non-null   float64\n",
      " 83  tot4              9294 non-null   float64\n",
      " 84  diff_tot4-to4     9280 non-null   float64\n",
      " 85  winner_4          12884 non-null  int64  \n",
      " 86  score_fin         12884 non-null  object \n",
      " 87  sc1_fin           12884 non-null  int64  \n",
      " 88  sc2_fin           12884 non-null  int64  \n",
      " 89  tot_fin           12884 non-null  int64  \n",
      " 90  diff_tf-to3       10453 non-null  float64\n",
      " 91  winner_game       12884 non-null  int64  \n",
      " 92  rezult            12884 non-null  object \n",
      " 93  raz_tf-t4q        6914 non-null   float64\n",
      " 94  record_8          12884 non-null  int64  \n",
      "dtypes: float64(71), int64(14), object(10)\n",
      "memory usage: 9.4+ MB\n"
     ]
    }
   ],
   "source": [
    "df.info()"
   ]
  },
  {
   "cell_type": "code",
   "execution_count": 8,
   "id": "f9caca17",
   "metadata": {},
   "outputs": [],
   "source": [
    "df = df[~df.index.str.contains('\\(ж\\)')]  # удаление объектов \"Ж\""
   ]
  },
  {
   "cell_type": "code",
   "execution_count": 9,
   "id": "c5bd2173",
   "metadata": {},
   "outputs": [],
   "source": [
    "df = df.dropna(subset=['tot_in_4_on_game']) # удаление пустого значения"
   ]
  },
  {
   "cell_type": "code",
   "execution_count": 10,
   "id": "9d0f45f7",
   "metadata": {},
   "outputs": [],
   "source": [
    "df['rezult'] = df['rezult'].astype(int) # изменение типа данных"
   ]
  },
  {
   "cell_type": "code",
   "execution_count": 11,
   "id": "fe811a85",
   "metadata": {},
   "outputs": [],
   "source": [
    "df=df[df['tot']<190] # удаление по усдлвиям тотала"
   ]
  },
  {
   "cell_type": "code",
   "execution_count": 8,
   "id": "4860d2e1",
   "metadata": {},
   "outputs": [],
   "source": [
    "df=df[df['tot'] > 120] # удаление по усдлвиям тотала"
   ]
  },
  {
   "cell_type": "code",
   "execution_count": null,
   "id": "dc215de7",
   "metadata": {},
   "outputs": [],
   "source": []
  },
  {
   "cell_type": "markdown",
   "id": "e475c6b6",
   "metadata": {},
   "source": [
    "#### подготовка рабочего датасета"
   ]
  },
  {
   "cell_type": "code",
   "execution_count": 14,
   "id": "df2148c7",
   "metadata": {},
   "outputs": [],
   "source": [
    "df1 = df[['fora', 'ABS_sc_q4', 'raz_tot_4q-tot', 'rezult']]"
   ]
  },
  {
   "cell_type": "code",
   "execution_count": 15,
   "id": "ffb53486",
   "metadata": {},
   "outputs": [
    {
     "data": {
      "text/html": [
       "<div>\n",
       "<style scoped>\n",
       "    .dataframe tbody tr th:only-of-type {\n",
       "        vertical-align: middle;\n",
       "    }\n",
       "\n",
       "    .dataframe tbody tr th {\n",
       "        vertical-align: top;\n",
       "    }\n",
       "\n",
       "    .dataframe thead th {\n",
       "        text-align: right;\n",
       "    }\n",
       "</style>\n",
       "<table border=\"1\" class=\"dataframe\">\n",
       "  <thead>\n",
       "    <tr style=\"text-align: right;\">\n",
       "      <th></th>\n",
       "      <th>fora</th>\n",
       "      <th>ABS_sc_q4</th>\n",
       "      <th>raz_tot_4q-tot</th>\n",
       "      <th>rezult</th>\n",
       "    </tr>\n",
       "  </thead>\n",
       "  <tbody>\n",
       "    <tr>\n",
       "      <th>Балкан — Левски София</th>\n",
       "      <td>27.5</td>\n",
       "      <td>11.0</td>\n",
       "      <td>4.0</td>\n",
       "      <td>1</td>\n",
       "    </tr>\n",
       "    <tr>\n",
       "      <th>Металлург Магнитогорск — ЦСП-Химки</th>\n",
       "      <td>2.5</td>\n",
       "      <td>2.0</td>\n",
       "      <td>4.0</td>\n",
       "      <td>1</td>\n",
       "    </tr>\n",
       "    <tr>\n",
       "      <th>Суррей Скорчерс — Шеффилд Шаркс</th>\n",
       "      <td>3.5</td>\n",
       "      <td>8.0</td>\n",
       "      <td>2.0</td>\n",
       "      <td>0</td>\n",
       "    </tr>\n",
       "    <tr>\n",
       "      <th>Лейден — Йост Юнайтед</th>\n",
       "      <td>17.5</td>\n",
       "      <td>10.0</td>\n",
       "      <td>-15.0</td>\n",
       "      <td>0</td>\n",
       "    </tr>\n",
       "    <tr>\n",
       "      <th>Эжгейра — Оливейренсе</th>\n",
       "      <td>5.5</td>\n",
       "      <td>5.0</td>\n",
       "      <td>-15.0</td>\n",
       "      <td>0</td>\n",
       "    </tr>\n",
       "  </tbody>\n",
       "</table>\n",
       "</div>"
      ],
      "text/plain": [
       "                                    fora  ABS_sc_q4  raz_tot_4q-tot  rezult\n",
       "Балкан — Левски София               27.5       11.0             4.0       1\n",
       "Металлург Магнитогорск — ЦСП-Химки   2.5        2.0             4.0       1\n",
       "Суррей Скорчерс — Шеффилд Шаркс      3.5        8.0             2.0       0\n",
       "Лейден — Йост Юнайтед               17.5       10.0           -15.0       0\n",
       "Эжгейра — Оливейренсе                5.5        5.0           -15.0       0"
      ]
     },
     "execution_count": 15,
     "metadata": {},
     "output_type": "execute_result"
    }
   ],
   "source": [
    "df1.head()"
   ]
  },
  {
   "cell_type": "code",
   "execution_count": 16,
   "id": "e34c3b36",
   "metadata": {},
   "outputs": [
    {
     "name": "stdout",
     "output_type": "stream",
     "text": [
      "<class 'pandas.core.frame.DataFrame'>\n",
      "Index: 5719 entries, Балкан — Левски София to Чанхуа БЛЛ — Бэнк оф Тайвань\n",
      "Data columns (total 4 columns):\n",
      " #   Column          Non-Null Count  Dtype  \n",
      "---  ------          --------------  -----  \n",
      " 0   fora            5719 non-null   float64\n",
      " 1   ABS_sc_q4       5719 non-null   float64\n",
      " 2   raz_tot_4q-tot  5719 non-null   float64\n",
      " 3   rezult          5719 non-null   int64  \n",
      "dtypes: float64(3), int64(1)\n",
      "memory usage: 223.4+ KB\n"
     ]
    }
   ],
   "source": [
    "df1.info()"
   ]
  },
  {
   "cell_type": "code",
   "execution_count": 44,
   "id": "46b21172",
   "metadata": {},
   "outputs": [
    {
     "data": {
      "image/png": "[encoded data removed]",
      "text/plain": [
       "<Figure size 640x480 with 1 Axes>"
      ]
     },
     "metadata": {},
     "output_type": "display_data"
    }
   ],
   "source": [
    "x = df1['raz_tot_4q-tot']\n",
    "y = df1['ABS_sc_q4']\n",
    "plt.scatter(x, y)\n",
    "plt.show()"
   ]
  },
  {
   "cell_type": "code",
   "execution_count": null,
   "id": "d3e7f9d6",
   "metadata": {},
   "outputs": [],
   "source": []
  },
  {
   "cell_type": "markdown",
   "id": "31af8166",
   "metadata": {},
   "source": [
    "### машинное обучение"
   ]
  },
  {
   "cell_type": "markdown",
   "id": "73fda3f7",
   "metadata": {},
   "source": [
    "#### логическая регрессия"
   ]
  },
  {
   "cell_type": "code",
   "execution_count": 17,
   "id": "fd829c35",
   "metadata": {},
   "outputs": [],
   "source": [
    "from sklearn.model_selection import train_test_split\n",
    "\n",
    "X = df1.drop('rezult', axis=1)\n",
    "y = df1['rezult']\n",
    "\n",
    "Xtrain, Xtest, ytrain, ytest = train_test_split(X, y, train_size=0.7, random_state=123)"
   ]
  },
  {
   "cell_type": "code",
   "execution_count": 18,
   "id": "31ae1061",
   "metadata": {},
   "outputs": [],
   "source": [
    "import warnings\n",
    "warnings.filterwarnings(\"ignore\")"
   ]
  },
  {
   "cell_type": "code",
   "execution_count": 19,
   "id": "91c44a7f",
   "metadata": {},
   "outputs": [],
   "source": [
    "from sklearn.linear_model import LogisticRegression\n",
    "\n",
    "lr = LogisticRegression()"
   ]
  },
  {
   "cell_type": "code",
   "execution_count": 20,
   "id": "be31820e",
   "metadata": {},
   "outputs": [],
   "source": [
    "lr.fit(Xtrain, ytrain)\n",
    "\n",
    "prediction = lr.predict(Xtest)"
   ]
  },
  {
   "cell_type": "code",
   "execution_count": 21,
   "id": "eb6eb4d1",
   "metadata": {},
   "outputs": [
    {
     "data": {
      "text/plain": [
       "0.527972027972028"
      ]
     },
     "execution_count": 21,
     "metadata": {},
     "output_type": "execute_result"
    }
   ],
   "source": [
    "from sklearn.metrics import accuracy_score\n",
    "\n",
    "accuracy_score(ytest, prediction)"
   ]
  },
  {
   "cell_type": "code",
   "execution_count": 22,
   "id": "7b7186b7",
   "metadata": {},
   "outputs": [
    {
     "data": {
      "text/plain": [
       "array([[0.474992  , 0.525008  ],\n",
       "       [0.44205317, 0.55794683],\n",
       "       [0.4795126 , 0.5204874 ],\n",
       "       [0.47537143, 0.52462857],\n",
       "       [0.46810771, 0.53189229],\n",
       "       [0.43289417, 0.56710583],\n",
       "       [0.47701526, 0.52298474],\n",
       "       [0.46207911, 0.53792089],\n",
       "       [0.45934712, 0.54065288],\n",
       "       [0.45890967, 0.54109033],\n",
       "       [0.46809035, 0.53190965],\n",
       "       [0.4721061 , 0.5278939 ],\n",
       "       [0.45751068, 0.54248932],\n",
       "       [0.47773855, 0.52226145],\n",
       "       [0.45248605, 0.54751395],\n",
       "       [0.47031639, 0.52968361],\n",
       "       [0.47473971, 0.52526029],\n",
       "       [0.45976993, 0.54023007],\n",
       "       [0.47715176, 0.52284824],\n",
       "       [0.4663945 , 0.5336055 ]])"
      ]
     },
     "execution_count": 22,
     "metadata": {},
     "output_type": "execute_result"
    }
   ],
   "source": [
    "probs_test = lr.predict_proba(Xtest)\n",
    "probs_test[:20]"
   ]
  },
  {
   "cell_type": "code",
   "execution_count": 23,
   "id": "5c66a90a",
   "metadata": {},
   "outputs": [
    {
     "data": {
      "text/plain": [
       "(array([[8.80716963e-03, 3.70680241e-05, 2.55053445e-04]]),\n",
       " array([0.06852528]))"
      ]
     },
     "execution_count": 23,
     "metadata": {},
     "output_type": "execute_result"
    }
   ],
   "source": [
    "lr.coef_, lr.intercept_"
   ]
  },
  {
   "cell_type": "code",
   "execution_count": 24,
   "id": "89a38c0a",
   "metadata": {},
   "outputs": [
    {
     "data": {
      "text/plain": [
       "0.6870429186215167"
      ]
     },
     "execution_count": 24,
     "metadata": {},
     "output_type": "execute_result"
    }
   ],
   "source": [
    "from sklearn.metrics import mean_squared_error\n",
    "mean_squared_error(ytest, prediction) ** 0.5"
   ]
  },
  {
   "cell_type": "code",
   "execution_count": 25,
   "id": "668941bf",
   "metadata": {},
   "outputs": [],
   "source": [
    "###  добовление полиномомных признаков\n",
    "from sklearn.preprocessing import PolynomialFeatures\n",
    "\n",
    "pf = PolynomialFeatures(degree=3)\n",
    "pf.fit(Xtrain)\n",
    "\n",
    "Xtrain_new = pf.transform(Xtrain)\n",
    "Xtest_new = pf.transform(Xtest)"
   ]
  },
  {
   "cell_type": "code",
   "execution_count": 26,
   "id": "c2470dde",
   "metadata": {},
   "outputs": [],
   "source": [
    "lr.fit(Xtrain_new, ytrain)\n",
    "pred2 = lr.predict(Xtest_new)"
   ]
  },
  {
   "cell_type": "code",
   "execution_count": 27,
   "id": "ea374a53",
   "metadata": {},
   "outputs": [
    {
     "data": {
      "text/plain": [
       "0.6857694366765846"
      ]
     },
     "execution_count": 27,
     "metadata": {},
     "output_type": "execute_result"
    }
   ],
   "source": [
    "mean_squared_error(ytest, pred2) ** 0.5"
   ]
  },
  {
   "cell_type": "markdown",
   "id": "eda48855",
   "metadata": {},
   "source": [
    "#### линейная регрессия"
   ]
  },
  {
   "cell_type": "code",
   "execution_count": 28,
   "id": "0de3b197",
   "metadata": {},
   "outputs": [],
   "source": [
    "from sklearn.model_selection import train_test_split\n",
    "from sklearn.linear_model import LinearRegression\n",
    "\n",
    "X = df1.drop('rezult', axis=1)\n",
    "y = df1['rezult']\n",
    "\n",
    "Xtrain, Xtest, ytrain, ytest = train_test_split(X, y, train_size=0.7, random_state=123)"
   ]
  },
  {
   "cell_type": "code",
   "execution_count": 29,
   "id": "4396476e",
   "metadata": {},
   "outputs": [],
   "source": [
    "model = LinearRegression()\n",
    "model.fit(Xtrain, ytrain)\n",
    "prediction = model.predict(Xtest)"
   ]
  },
  {
   "cell_type": "code",
   "execution_count": 30,
   "id": "8ebfe4af",
   "metadata": {},
   "outputs": [
    {
     "data": {
      "text/plain": [
       "0.49907435702341324"
      ]
     },
     "execution_count": 30,
     "metadata": {},
     "output_type": "execute_result"
    }
   ],
   "source": [
    "from sklearn.metrics import mean_squared_error\n",
    "mean_squared_error(ytest, prediction) ** 0.5"
   ]
  },
  {
   "cell_type": "code",
   "execution_count": 31,
   "id": "f53c2a57",
   "metadata": {},
   "outputs": [],
   "source": [
    "###  добовление полиномомных признаков\n",
    "from sklearn.preprocessing import PolynomialFeatures\n",
    "\n",
    "pf = PolynomialFeatures(degree=2)\n",
    "pf.fit(Xtrain)\n",
    "\n",
    "Xtrain_new = pf.transform(Xtrain)\n",
    "Xtest_new = pf.transform(Xtest)"
   ]
  },
  {
   "cell_type": "code",
   "execution_count": 32,
   "id": "872fc266",
   "metadata": {},
   "outputs": [
    {
     "data": {
      "text/plain": [
       "(4003, 10)"
      ]
     },
     "execution_count": 32,
     "metadata": {},
     "output_type": "execute_result"
    }
   ],
   "source": [
    "Xtrain_new.shape"
   ]
  },
  {
   "cell_type": "code",
   "execution_count": 33,
   "id": "12d0316b",
   "metadata": {},
   "outputs": [],
   "source": [
    "model.fit(Xtrain_new, ytrain)\n",
    "pred2 = model.predict(Xtest_new)\n"
   ]
  },
  {
   "cell_type": "code",
   "execution_count": 34,
   "id": "115f31fa",
   "metadata": {},
   "outputs": [
    {
     "data": {
      "text/plain": [
       "0.49984919077359025"
      ]
     },
     "execution_count": 34,
     "metadata": {},
     "output_type": "execute_result"
    }
   ],
   "source": [
    "mean_squared_error(ytest, pred2) **0.5"
   ]
  },
  {
   "cell_type": "code",
   "execution_count": 141,
   "id": "af2091fa",
   "metadata": {
    "scrolled": true
   },
   "outputs": [
    {
     "ename": "ValueError",
     "evalue": "Classification metrics can't handle a mix of binary and continuous targets",
     "output_type": "error",
     "traceback": [
      "\u001b[0;31m---------------------------------------------------------------------------\u001b[0m",
      "\u001b[0;31mValueError\u001b[0m                                Traceback (most recent call last)",
      "Cell \u001b[0;32mIn[141], line 3\u001b[0m\n\u001b[1;32m      1\u001b[0m \u001b[38;5;28;01mfrom\u001b[39;00m \u001b[38;5;21;01msklearn\u001b[39;00m\u001b[38;5;21;01m.\u001b[39;00m\u001b[38;5;21;01mmetrics\u001b[39;00m \u001b[38;5;28;01mimport\u001b[39;00m accuracy_score\n\u001b[0;32m----> 3\u001b[0m \u001b[43maccuracy_score\u001b[49m\u001b[43m(\u001b[49m\u001b[43mytest\u001b[49m\u001b[43m,\u001b[49m\u001b[43m \u001b[49m\u001b[43mpred2\u001b[49m\u001b[43m)\u001b[49m\n",
      "File \u001b[0;32m~/.local/lib/python3.10/site-packages/sklearn/utils/_param_validation.py:213\u001b[0m, in \u001b[0;36mvalidate_params.<locals>.decorator.<locals>.wrapper\u001b[0;34m(*args, **kwargs)\u001b[0m\n\u001b[1;32m    207\u001b[0m \u001b[38;5;28;01mtry\u001b[39;00m:\n\u001b[1;32m    208\u001b[0m     \u001b[38;5;28;01mwith\u001b[39;00m config_context(\n\u001b[1;32m    209\u001b[0m         skip_parameter_validation\u001b[38;5;241m=\u001b[39m(\n\u001b[1;32m    210\u001b[0m             prefer_skip_nested_validation \u001b[38;5;129;01mor\u001b[39;00m global_skip_validation\n\u001b[1;32m    211\u001b[0m         )\n\u001b[1;32m    212\u001b[0m     ):\n\u001b[0;32m--> 213\u001b[0m         \u001b[38;5;28;01mreturn\u001b[39;00m \u001b[43mfunc\u001b[49m\u001b[43m(\u001b[49m\u001b[38;5;241;43m*\u001b[39;49m\u001b[43margs\u001b[49m\u001b[43m,\u001b[49m\u001b[43m \u001b[49m\u001b[38;5;241;43m*\u001b[39;49m\u001b[38;5;241;43m*\u001b[39;49m\u001b[43mkwargs\u001b[49m\u001b[43m)\u001b[49m\n\u001b[1;32m    214\u001b[0m \u001b[38;5;28;01mexcept\u001b[39;00m InvalidParameterError \u001b[38;5;28;01mas\u001b[39;00m e:\n\u001b[1;32m    215\u001b[0m     \u001b[38;5;66;03m# When the function is just a wrapper around an estimator, we allow\u001b[39;00m\n\u001b[1;32m    216\u001b[0m     \u001b[38;5;66;03m# the function to delegate validation to the estimator, but we replace\u001b[39;00m\n\u001b[1;32m    217\u001b[0m     \u001b[38;5;66;03m# the name of the estimator by the name of the function in the error\u001b[39;00m\n\u001b[1;32m    218\u001b[0m     \u001b[38;5;66;03m# message to avoid confusion.\u001b[39;00m\n\u001b[1;32m    219\u001b[0m     msg \u001b[38;5;241m=\u001b[39m re\u001b[38;5;241m.\u001b[39msub(\n\u001b[1;32m    220\u001b[0m         \u001b[38;5;124mr\u001b[39m\u001b[38;5;124m\"\u001b[39m\u001b[38;5;124mparameter of \u001b[39m\u001b[38;5;124m\\\u001b[39m\u001b[38;5;124mw+ must be\u001b[39m\u001b[38;5;124m\"\u001b[39m,\n\u001b[1;32m    221\u001b[0m         \u001b[38;5;124mf\u001b[39m\u001b[38;5;124m\"\u001b[39m\u001b[38;5;124mparameter of \u001b[39m\u001b[38;5;132;01m{\u001b[39;00mfunc\u001b[38;5;241m.\u001b[39m\u001b[38;5;18m__qualname__\u001b[39m\u001b[38;5;132;01m}\u001b[39;00m\u001b[38;5;124m must be\u001b[39m\u001b[38;5;124m\"\u001b[39m,\n\u001b[1;32m    222\u001b[0m         \u001b[38;5;28mstr\u001b[39m(e),\n\u001b[1;32m    223\u001b[0m     )\n",
      "File \u001b[0;32m~/.local/lib/python3.10/site-packages/sklearn/metrics/_classification.py:213\u001b[0m, in \u001b[0;36maccuracy_score\u001b[0;34m(y_true, y_pred, normalize, sample_weight)\u001b[0m\n\u001b[1;32m    147\u001b[0m \u001b[38;5;124;03m\"\"\"Accuracy classification score.\u001b[39;00m\n\u001b[1;32m    148\u001b[0m \n\u001b[1;32m    149\u001b[0m \u001b[38;5;124;03mIn multilabel classification, this function computes subset accuracy:\u001b[39;00m\n\u001b[0;32m   (...)\u001b[0m\n\u001b[1;32m    209\u001b[0m \u001b[38;5;124;03m0.5\u001b[39;00m\n\u001b[1;32m    210\u001b[0m \u001b[38;5;124;03m\"\"\"\u001b[39;00m\n\u001b[1;32m    212\u001b[0m \u001b[38;5;66;03m# Compute accuracy for each possible representation\u001b[39;00m\n\u001b[0;32m--> 213\u001b[0m y_type, y_true, y_pred \u001b[38;5;241m=\u001b[39m \u001b[43m_check_targets\u001b[49m\u001b[43m(\u001b[49m\u001b[43my_true\u001b[49m\u001b[43m,\u001b[49m\u001b[43m \u001b[49m\u001b[43my_pred\u001b[49m\u001b[43m)\u001b[49m\n\u001b[1;32m    214\u001b[0m check_consistent_length(y_true, y_pred, sample_weight)\n\u001b[1;32m    215\u001b[0m \u001b[38;5;28;01mif\u001b[39;00m y_type\u001b[38;5;241m.\u001b[39mstartswith(\u001b[38;5;124m\"\u001b[39m\u001b[38;5;124mmultilabel\u001b[39m\u001b[38;5;124m\"\u001b[39m):\n",
      "File \u001b[0;32m~/.local/lib/python3.10/site-packages/sklearn/metrics/_classification.py:94\u001b[0m, in \u001b[0;36m_check_targets\u001b[0;34m(y_true, y_pred)\u001b[0m\n\u001b[1;32m     91\u001b[0m     y_type \u001b[38;5;241m=\u001b[39m {\u001b[38;5;124m\"\u001b[39m\u001b[38;5;124mmulticlass\u001b[39m\u001b[38;5;124m\"\u001b[39m}\n\u001b[1;32m     93\u001b[0m \u001b[38;5;28;01mif\u001b[39;00m \u001b[38;5;28mlen\u001b[39m(y_type) \u001b[38;5;241m>\u001b[39m \u001b[38;5;241m1\u001b[39m:\n\u001b[0;32m---> 94\u001b[0m     \u001b[38;5;28;01mraise\u001b[39;00m \u001b[38;5;167;01mValueError\u001b[39;00m(\n\u001b[1;32m     95\u001b[0m         \u001b[38;5;124m\"\u001b[39m\u001b[38;5;124mClassification metrics can\u001b[39m\u001b[38;5;124m'\u001b[39m\u001b[38;5;124mt handle a mix of \u001b[39m\u001b[38;5;132;01m{0}\u001b[39;00m\u001b[38;5;124m and \u001b[39m\u001b[38;5;132;01m{1}\u001b[39;00m\u001b[38;5;124m targets\u001b[39m\u001b[38;5;124m\"\u001b[39m\u001b[38;5;241m.\u001b[39mformat(\n\u001b[1;32m     96\u001b[0m             type_true, type_pred\n\u001b[1;32m     97\u001b[0m         )\n\u001b[1;32m     98\u001b[0m     )\n\u001b[1;32m    100\u001b[0m \u001b[38;5;66;03m# We can't have more than one value on y_type => The set is no more needed\u001b[39;00m\n\u001b[1;32m    101\u001b[0m y_type \u001b[38;5;241m=\u001b[39m y_type\u001b[38;5;241m.\u001b[39mpop()\n",
      "\u001b[0;31mValueError\u001b[0m: Classification metrics can't handle a mix of binary and continuous targets"
     ]
    }
   ],
   "source": [
    "from sklearn.metrics import accuracy_score\n",
    "\n",
    "accuracy_score(ytest, pred2)"
   ]
  },
  {
   "cell_type": "markdown",
   "id": "c65eeb92",
   "metadata": {},
   "source": [
    "#### дерево"
   ]
  },
  {
   "cell_type": "code",
   "execution_count": 35,
   "id": "6e4fc787",
   "metadata": {},
   "outputs": [],
   "source": [
    "from sklearn.tree import DecisionTreeClassifier\n",
    "from sklearn.model_selection import cross_val_score, train_test_split\n",
    "\n",
    "X = df1.drop('rezult', axis=1)\n",
    "y = df1['rezult']\n",
    "\n",
    "Xtrain, Xtest, ytrain, ytest = train_test_split(X, y, train_size=0.7, random_state=123)"
   ]
  },
  {
   "cell_type": "code",
   "execution_count": 36,
   "id": "ac5173f4",
   "metadata": {},
   "outputs": [],
   "source": [
    "first_tree = DecisionTreeClassifier()"
   ]
  },
  {
   "cell_type": "code",
   "execution_count": 37,
   "id": "62519ce1",
   "metadata": {},
   "outputs": [],
   "source": [
    "model = DecisionTreeClassifier()\n",
    "model.fit(Xtrain, ytrain)\n",
    "prediction = model.predict(Xtest)"
   ]
  },
  {
   "cell_type": "code",
   "execution_count": 38,
   "id": "c6f368d9",
   "metadata": {},
   "outputs": [
    {
     "data": {
      "text/plain": [
       "0.7132610032388276"
      ]
     },
     "execution_count": 38,
     "metadata": {},
     "output_type": "execute_result"
    }
   ],
   "source": [
    "from sklearn.metrics import mean_squared_error\n",
    "mean_squared_error(ytest, prediction) ** 0.5"
   ]
  },
  {
   "cell_type": "code",
   "execution_count": 39,
   "id": "4300fe42",
   "metadata": {},
   "outputs": [
    {
     "data": {
      "text/plain": [
       "0.49125874125874125"
      ]
     },
     "execution_count": 39,
     "metadata": {},
     "output_type": "execute_result"
    }
   ],
   "source": [
    "from sklearn.metrics import accuracy_score\n",
    "\n",
    "accuracy_score(ytest, prediction)"
   ]
  },
  {
   "cell_type": "code",
   "execution_count": 120,
   "id": "71e5efab",
   "metadata": {},
   "outputs": [
    {
     "data": {
      "text/html": [
       "<div>\n",
       "<style scoped>\n",
       "    .dataframe tbody tr th:only-of-type {\n",
       "        vertical-align: middle;\n",
       "    }\n",
       "\n",
       "    .dataframe tbody tr th {\n",
       "        vertical-align: top;\n",
       "    }\n",
       "\n",
       "    .dataframe thead th {\n",
       "        text-align: right;\n",
       "    }\n",
       "</style>\n",
       "<table border=\"1\" class=\"dataframe\">\n",
       "  <thead>\n",
       "    <tr style=\"text-align: right;\">\n",
       "      <th></th>\n",
       "      <th>kef_1</th>\n",
       "      <th>kef_2</th>\n",
       "      <th>tot</th>\n",
       "      <th>fora</th>\n",
       "      <th>ABS_sc_q4</th>\n",
       "      <th>tot_in_4_on_game</th>\n",
       "      <th>raz_tot_4q-tot</th>\n",
       "      <th>tot_fin</th>\n",
       "      <th>rezult</th>\n",
       "    </tr>\n",
       "  </thead>\n",
       "  <tbody>\n",
       "    <tr>\n",
       "      <th>Балкан — Левски София</th>\n",
       "      <td>1.85</td>\n",
       "      <td>1.85</td>\n",
       "      <td>157.5</td>\n",
       "      <td>27.5</td>\n",
       "      <td>11.0</td>\n",
       "      <td>161.5</td>\n",
       "      <td>4.0</td>\n",
       "      <td>154</td>\n",
       "      <td>1</td>\n",
       "    </tr>\n",
       "    <tr>\n",
       "      <th>Металлург Магнитогорск — ЦСП-Химки</th>\n",
       "      <td>1.63</td>\n",
       "      <td>2.13</td>\n",
       "      <td>154.5</td>\n",
       "      <td>2.5</td>\n",
       "      <td>2.0</td>\n",
       "      <td>158.5</td>\n",
       "      <td>4.0</td>\n",
       "      <td>156</td>\n",
       "      <td>1</td>\n",
       "    </tr>\n",
       "    <tr>\n",
       "      <th>Суррей Скорчерс — Шеффилд Шаркс</th>\n",
       "      <td>2.25</td>\n",
       "      <td>1.57</td>\n",
       "      <td>152.5</td>\n",
       "      <td>3.5</td>\n",
       "      <td>8.0</td>\n",
       "      <td>154.5</td>\n",
       "      <td>2.0</td>\n",
       "      <td>157</td>\n",
       "      <td>0</td>\n",
       "    </tr>\n",
       "    <tr>\n",
       "      <th>Лейден — Йост Юнайтед</th>\n",
       "      <td>1.85</td>\n",
       "      <td>1.85</td>\n",
       "      <td>150.5</td>\n",
       "      <td>17.5</td>\n",
       "      <td>10.0</td>\n",
       "      <td>135.5</td>\n",
       "      <td>-15.0</td>\n",
       "      <td>138</td>\n",
       "      <td>0</td>\n",
       "    </tr>\n",
       "    <tr>\n",
       "      <th>Эжгейра — Оливейренсе</th>\n",
       "      <td>2.65</td>\n",
       "      <td>1.43</td>\n",
       "      <td>157.5</td>\n",
       "      <td>5.5</td>\n",
       "      <td>5.0</td>\n",
       "      <td>142.5</td>\n",
       "      <td>-15.0</td>\n",
       "      <td>147</td>\n",
       "      <td>0</td>\n",
       "    </tr>\n",
       "  </tbody>\n",
       "</table>\n",
       "</div>"
      ],
      "text/plain": [
       "                                    kef_1  kef_2    tot  fora  ABS_sc_q4  \\\n",
       "Балкан — Левски София                1.85   1.85  157.5  27.5       11.0   \n",
       "Металлург Магнитогорск — ЦСП-Химки   1.63   2.13  154.5   2.5        2.0   \n",
       "Суррей Скорчерс — Шеффилд Шаркс      2.25   1.57  152.5   3.5        8.0   \n",
       "Лейден — Йост Юнайтед                1.85   1.85  150.5  17.5       10.0   \n",
       "Эжгейра — Оливейренсе                2.65   1.43  157.5   5.5        5.0   \n",
       "\n",
       "                                    tot_in_4_on_game  raz_tot_4q-tot  tot_fin  \\\n",
       "Балкан — Левски София                          161.5             4.0      154   \n",
       "Металлург Магнитогорск — ЦСП-Химки             158.5             4.0      156   \n",
       "Суррей Скорчерс — Шеффилд Шаркс                154.5             2.0      157   \n",
       "Лейден — Йост Юнайтед                          135.5           -15.0      138   \n",
       "Эжгейра — Оливейренсе                          142.5           -15.0      147   \n",
       "\n",
       "                                    rezult  \n",
       "Балкан — Левски София                    1  \n",
       "Металлург Магнитогорск — ЦСП-Химки       1  \n",
       "Суррей Скорчерс — Шеффилд Шаркс          0  \n",
       "Лейден — Йост Юнайтед                    0  \n",
       "Эжгейра — Оливейренсе                    0  "
      ]
     },
     "execution_count": 120,
     "metadata": {},
     "output_type": "execute_result"
    }
   ],
   "source": [
    "df1.head()"
   ]
  },
  {
   "cell_type": "markdown",
   "id": "1cad74d8",
   "metadata": {},
   "source": [
    "### прогноз тотала"
   ]
  },
  {
   "cell_type": "code",
   "execution_count": 26,
   "id": "4d26f223",
   "metadata": {},
   "outputs": [],
   "source": [
    "df.insert(df.columns.get_loc('teem_2') + 1, 'status', '')"
   ]
  },
  {
   "cell_type": "code",
   "execution_count": 19,
   "id": "ce45047a",
   "metadata": {},
   "outputs": [
    {
     "data": {
      "text/plain": [
       "Италия. Серия В          226\n",
       "Франция. Насьональ 1     219\n",
       "Аргентина. Ла Лига       196\n",
       "Евролига ULEB            192\n",
       "Бразилия. NBB            175\n",
       "Италия. Серия А2         170\n",
       "Польша. 1-я лига         139\n",
       "Еврокубок ULEB           136\n",
       "Лига ВТБ                 125\n",
       "Польша. Экстралига       122\n",
       "Аргентина. LNB           122\n",
       "Кубок Европы ФИБА        117\n",
       "Франция. Про Б           111\n",
       "Испания. ACB League      108\n",
       "Германия. Про А          107\n",
       "Германия. Бундеслига     105\n",
       "Испания. Лига ЛЕБ Оро    102\n",
       "Турция. Суперлига        101\n",
       "Лига Чемпионов           100\n",
       "Италия. Серия А           97\n",
       "Name: name_champ, dtype: int64"
      ]
     },
     "execution_count": 19,
     "metadata": {},
     "output_type": "execute_result"
    }
   ],
   "source": [
    "df['name_champ'].value_counts().head(20)"
   ]
  },
  {
   "cell_type": "code",
   "execution_count": 17,
   "id": "2b07d3f4",
   "metadata": {},
   "outputs": [],
   "source": [
    "df = df.drop(df[df['name_champ'] == 'New'].index, axis=0) # удаление по значению"
   ]
  },
  {
   "cell_type": "code",
   "execution_count": 21,
   "id": "da048161",
   "metadata": {},
   "outputs": [],
   "source": [
    "df = df[df['name_champ'].isin(df['name_champ'].value_counts().head(20).index)]"
   ]
  },
  {
   "cell_type": "code",
   "execution_count": 58,
   "id": "e0931632",
   "metadata": {},
   "outputs": [],
   "source": [
    "for index, row in df[df['teem_2'].isin(df['teem_2'].value_counts().head(20).index)].iterrows():\n",
    "    df.at[index, 'status'] = 1"
   ]
  },
  {
   "cell_type": "code",
   "execution_count": 63,
   "id": "afc4cfa8",
   "metadata": {},
   "outputs": [],
   "source": [
    "df1 = df[df['status']==1]"
   ]
  },
  {
   "cell_type": "code",
   "execution_count": 67,
   "id": "3912d4d8",
   "metadata": {},
   "outputs": [],
   "source": [
    "df1 = df1[['name_champ', 'teem_1', 'teem_2',  'status', 'kef_1', 'kef_2', 'tot', 'fora', 'tot1', 'tot2', 'tot3', \n",
    "       'ABS_aft_3q', 'tot_after_3q', 'tot_fin']]"
   ]
  },
  {
   "cell_type": "code",
   "execution_count": 25,
   "id": "bbdf412c",
   "metadata": {},
   "outputs": [],
   "source": [
    "df = df[['kef_1', 'kef_2', 'tot', 'fora', 'tot1', 'tot2', 'tot3', \n",
    "       'ABS_aft_3q', 'tot_after_3q', 'tot_fin']].astype(float)"
   ]
  },
  {
   "cell_type": "code",
   "execution_count": 50,
   "id": "946993a9",
   "metadata": {
    "scrolled": true
   },
   "outputs": [],
   "source": [
    "df.insert(df.columns.get_loc('tot_after_3q') + 1, 'raz_t3-tot', '')"
   ]
  },
  {
   "cell_type": "code",
   "execution_count": 52,
   "id": "8710c90e",
   "metadata": {},
   "outputs": [],
   "source": [
    "for index, row in df.iterrows():    \n",
    "    df.at[index, 'raz_t3-tot'] = row['tot_after_3q'] - row['tot']\n",
    "    "
   ]
  },
  {
   "cell_type": "code",
   "execution_count": 33,
   "id": "9046b9b5",
   "metadata": {},
   "outputs": [],
   "source": [
    "df = df.dropna(subset=['tot3']) # удаление пустого значения"
   ]
  },
  {
   "cell_type": "code",
   "execution_count": 58,
   "id": "a10d94ca",
   "metadata": {},
   "outputs": [
    {
     "data": {
      "text/plain": [
       "Index(['kef_1', 'kef_2', 'tot', 'fora', 'tot1', 'tot2', 'tot3', 'ABS_aft_3q',\n",
       "       'tot_after_3q', 'raz_t3-tot', 'tot_fin'],\n",
       "      dtype='object')"
      ]
     },
     "execution_count": 58,
     "metadata": {},
     "output_type": "execute_result"
    }
   ],
   "source": [
    "df.columns"
   ]
  },
  {
   "cell_type": "code",
   "execution_count": 59,
   "id": "79224acd",
   "metadata": {},
   "outputs": [],
   "source": [
    "df = df[['fora', 'ABS_aft_3q', 'raz_t3-tot', 'tot_fin']]"
   ]
  },
  {
   "cell_type": "code",
   "execution_count": 60,
   "id": "93001a85",
   "metadata": {},
   "outputs": [
    {
     "data": {
      "text/html": [
       "<div>\n",
       "<style scoped>\n",
       "    .dataframe tbody tr th:only-of-type {\n",
       "        vertical-align: middle;\n",
       "    }\n",
       "\n",
       "    .dataframe tbody tr th {\n",
       "        vertical-align: top;\n",
       "    }\n",
       "\n",
       "    .dataframe thead th {\n",
       "        text-align: right;\n",
       "    }\n",
       "</style>\n",
       "<table border=\"1\" class=\"dataframe\">\n",
       "  <thead>\n",
       "    <tr style=\"text-align: right;\">\n",
       "      <th></th>\n",
       "      <th>fora</th>\n",
       "      <th>ABS_aft_3q</th>\n",
       "      <th>raz_t3-tot</th>\n",
       "      <th>tot_fin</th>\n",
       "    </tr>\n",
       "  </thead>\n",
       "  <tbody>\n",
       "    <tr>\n",
       "      <th>Минск — Пари Нижний Новгород</th>\n",
       "      <td>16.0</td>\n",
       "      <td>42.0</td>\n",
       "      <td>-5.0</td>\n",
       "      <td>149.0</td>\n",
       "    </tr>\n",
       "    <tr>\n",
       "      <th>Руна — Автодор</th>\n",
       "      <td>1.5</td>\n",
       "      <td>8.0</td>\n",
       "      <td>6.0</td>\n",
       "      <td>167.0</td>\n",
       "    </tr>\n",
       "    <tr>\n",
       "      <th>Ховентут Бадалона — Гран Канария</th>\n",
       "      <td>5.0</td>\n",
       "      <td>8.0</td>\n",
       "      <td>-1.0</td>\n",
       "      <td>164.0</td>\n",
       "    </tr>\n",
       "    <tr>\n",
       "      <th>Гранада — Жирона</th>\n",
       "      <td>3.0</td>\n",
       "      <td>2.0</td>\n",
       "      <td>15.0</td>\n",
       "      <td>193.0</td>\n",
       "    </tr>\n",
       "    <tr>\n",
       "      <th>Бреоган — Манреса</th>\n",
       "      <td>3.0</td>\n",
       "      <td>5.0</td>\n",
       "      <td>1.0</td>\n",
       "      <td>154.0</td>\n",
       "    </tr>\n",
       "    <tr>\n",
       "      <th>...</th>\n",
       "      <td>...</td>\n",
       "      <td>...</td>\n",
       "      <td>...</td>\n",
       "      <td>...</td>\n",
       "    </tr>\n",
       "    <tr>\n",
       "      <th>Щецин — Дзики Варшава</th>\n",
       "      <td>9.5</td>\n",
       "      <td>16.0</td>\n",
       "      <td>-2.0</td>\n",
       "      <td>162.0</td>\n",
       "    </tr>\n",
       "    <tr>\n",
       "      <th>Альба Берлин — Монако</th>\n",
       "      <td>11.5</td>\n",
       "      <td>7.0</td>\n",
       "      <td>9.0</td>\n",
       "      <td>172.0</td>\n",
       "    </tr>\n",
       "    <tr>\n",
       "      <th>Удине — Луисс Рома</th>\n",
       "      <td>12.5</td>\n",
       "      <td>8.0</td>\n",
       "      <td>-20.0</td>\n",
       "      <td>138.0</td>\n",
       "    </tr>\n",
       "    <tr>\n",
       "      <th>Баскония — Олимпия Милан</th>\n",
       "      <td>3.5</td>\n",
       "      <td>14.0</td>\n",
       "      <td>2.0</td>\n",
       "      <td>161.0</td>\n",
       "    </tr>\n",
       "    <tr>\n",
       "      <th>Барселона — Партизан Белград</th>\n",
       "      <td>6.5</td>\n",
       "      <td>6.0</td>\n",
       "      <td>17.0</td>\n",
       "      <td>170.0</td>\n",
       "    </tr>\n",
       "  </tbody>\n",
       "</table>\n",
       "<p>2300 rows × 4 columns</p>\n",
       "</div>"
      ],
      "text/plain": [
       "                                  fora  ABS_aft_3q raz_t3-tot  tot_fin\n",
       "Минск — Пари Нижний Новгород      16.0        42.0       -5.0    149.0\n",
       "Руна — Автодор                     1.5         8.0        6.0    167.0\n",
       "Ховентут Бадалона — Гран Канария   5.0         8.0       -1.0    164.0\n",
       "Гранада — Жирона                   3.0         2.0       15.0    193.0\n",
       "Бреоган — Манреса                  3.0         5.0        1.0    154.0\n",
       "...                                ...         ...        ...      ...\n",
       "Щецин — Дзики Варшава              9.5        16.0       -2.0    162.0\n",
       "Альба Берлин — Монако             11.5         7.0        9.0    172.0\n",
       "Удине — Луисс Рома                12.5         8.0      -20.0    138.0\n",
       "Баскония — Олимпия Милан           3.5        14.0        2.0    161.0\n",
       "Барселона — Партизан Белград       6.5         6.0       17.0    170.0\n",
       "\n",
       "[2300 rows x 4 columns]"
      ]
     },
     "execution_count": 60,
     "metadata": {},
     "output_type": "execute_result"
    }
   ],
   "source": [
    "df"
   ]
  },
  {
   "cell_type": "code",
   "execution_count": null,
   "id": "13a1cb54",
   "metadata": {},
   "outputs": [],
   "source": []
  },
  {
   "cell_type": "code",
   "execution_count": 61,
   "id": "79015b55",
   "metadata": {},
   "outputs": [],
   "source": [
    "from sklearn.model_selection import train_test_split\n",
    "from sklearn.linear_model import LinearRegression\n",
    "\n",
    "X = df.drop('tot_fin', axis=1)\n",
    "y = df['tot_fin']\n",
    "\n",
    "Xtrain, Xtest, ytrain, ytest = train_test_split(X, y, train_size=0.7, random_state=45)"
   ]
  },
  {
   "cell_type": "code",
   "execution_count": 62,
   "id": "b79c3178",
   "metadata": {},
   "outputs": [],
   "source": [
    "model = LinearRegression()"
   ]
  },
  {
   "cell_type": "code",
   "execution_count": 63,
   "id": "a6d52d7a",
   "metadata": {},
   "outputs": [],
   "source": [
    "model.fit(Xtrain, ytrain)\n",
    "prediction = model.predict(Xtest)"
   ]
  },
  {
   "cell_type": "code",
   "execution_count": 64,
   "id": "403f4b21",
   "metadata": {},
   "outputs": [
    {
     "data": {
      "text/plain": [
       "10.817844242337465"
      ]
     },
     "execution_count": 64,
     "metadata": {},
     "output_type": "execute_result"
    }
   ],
   "source": [
    "from sklearn.metrics import mean_squared_error\n",
    "mean_squared_error(ytest, prediction) ** 0.5"
   ]
  },
  {
   "cell_type": "code",
   "execution_count": 74,
   "id": "1ad51268",
   "metadata": {},
   "outputs": [],
   "source": [
    "###  добовление полиномомных признаков\n",
    "from sklearn.preprocessing import PolynomialFeatures\n",
    "\n",
    "pf = PolynomialFeatures(degree=2)\n",
    "pf.fit(Xtrain)\n",
    "\n",
    "Xtrain_new = pf.transform(Xtrain)\n",
    "Xtest_new = pf.transform(Xtest)"
   ]
  },
  {
   "cell_type": "code",
   "execution_count": 75,
   "id": "357cca5d",
   "metadata": {},
   "outputs": [
    {
     "data": {
      "text/plain": [
       "10.819900112743777"
      ]
     },
     "execution_count": 75,
     "metadata": {},
     "output_type": "execute_result"
    }
   ],
   "source": [
    "model.fit(Xtrain_new, ytrain)\n",
    "pred2 = model.predict(Xtest_new)\n",
    "mean_squared_error(ytest, pred2) ** 0.5\n"
   ]
  },
  {
   "cell_type": "code",
   "execution_count": 76,
   "id": "ad777c94",
   "metadata": {},
   "outputs": [
    {
     "data": {
      "text/plain": [
       "array([143.7, 184.3, 153.6, 165.9, 168. , 142.4, 150.2, 168.7, 165.8,\n",
       "       163.7, 147.6, 154.7, 163.1, 176.1, 147.1, 167.4, 163.8, 152.5,\n",
       "       143.1, 166.6, 176. , 160.7, 161.2, 182.6, 182.9, 164.3, 163. ,\n",
       "       160.1, 181.8, 145.4, 156.6, 163.4, 156. , 175.5, 153.3, 137.3,\n",
       "       152.5, 160.6, 155.5, 153. , 147.5, 174.3, 150.1, 158.3, 128.3,\n",
       "       162.3, 164.4, 167.7, 168.9, 144.2, 169.8, 156.7, 155.7, 148.7,\n",
       "       160.6, 129.7, 160.6, 154.3, 158.6, 157.3, 136.7, 145.4, 184.2,\n",
       "       161.8, 178.2, 150.8, 131.2, 167.7, 163.9, 129.5, 168.2, 173.2,\n",
       "       143.5, 167.4, 173.9, 159.1, 173.6, 146.8, 161.6, 166.3, 167.3,\n",
       "       150.5, 175.4, 180.8, 146.1, 167. , 164.9, 153.4, 154.5, 159.7,\n",
       "       155.8, 152.8, 170. , 170.9, 145.7, 169. , 160.7, 142.7, 156.4,\n",
       "       168.9, 150. , 146.4, 151. , 131.8, 172.7, 150. , 136.1, 150. ,\n",
       "       176.4, 157.3, 167.4, 173. , 166.7, 161.8, 183.2, 142.7, 149.3,\n",
       "       163.6, 153.9, 161. , 156.9, 156. , 175.1, 165.2, 154.2, 155.6,\n",
       "       194.2, 147.3, 159. , 155.3, 139.3, 151.1, 167.7, 170.6, 185.7,\n",
       "       156.2, 176.2, 144.6, 168.7, 172.7, 162.5, 148.1, 167.7, 173.9,\n",
       "       168.1, 145.2, 155.9, 127.9, 176.6, 146.2, 168.1, 147. , 145.1,\n",
       "       176.4, 168.8, 148.4, 165.3, 158.2, 151.6, 166.2, 190.8, 151.1,\n",
       "       158.8, 145.4, 158.8, 145.1, 155. , 168.4, 160.2, 146. , 137.7,\n",
       "       151.6, 184.9, 175. , 138.8, 128.2, 133.7, 166.7, 166.1, 147.2,\n",
       "       159.4, 155.5, 121.4, 176.9, 122.9, 179.6, 137.4, 180.2, 156.1,\n",
       "       196.4, 171.3, 152.5, 173.1, 151.5, 143.8, 196.2, 170.7, 181. ,\n",
       "       133.7, 150.7, 171.8, 175.8, 164.8, 170.9, 121.8, 140.2, 144.8,\n",
       "       172.4, 147.7, 138.4, 175. , 165.5, 161.3, 143.7, 144.8, 150.7,\n",
       "       145.2, 166.2, 165.1, 162.2, 147.6, 148.2, 158.4, 163.6, 142.6,\n",
       "       156.7, 154. , 143.7, 159.8, 165.5, 153.4, 171.3, 159.4, 159.8,\n",
       "       169.3, 156. , 148. , 161.3, 140.3, 146.3, 131.4, 161. , 150.4,\n",
       "       155.4, 161.1, 152.7, 157.9, 158.9, 161.9, 168.8, 148.6, 139. ,\n",
       "       162.6, 184.2, 169.1, 166.1, 171.2, 123.1, 164.2, 142.7, 146.5,\n",
       "       157. , 159.9, 148.1, 138.7, 171. , 147.8, 158.8, 146.1, 153.8,\n",
       "       167.8, 158. , 167.1, 164.5, 191.1, 157.5, 175.3, 162.3, 143.6,\n",
       "       161.6, 185.9, 161.4, 141.6, 141.2, 147.4, 152.5, 140.4, 151.9,\n",
       "       143.9, 158.8, 159.5, 136.9, 135.2, 186. , 178.2, 134.3, 148.7,\n",
       "       175.5, 134.5, 165.9, 155.5, 151.9, 122.3, 156.8, 136.9, 168.7,\n",
       "       168.7, 144.6, 142.9, 169.3, 164.9, 180.4, 154.5, 157.8, 136.7,\n",
       "       197.2, 152.7, 170.2, 145.4, 152.9, 139.9, 142.7, 165.1, 180.6,\n",
       "       138. , 171.1, 191.3, 157.7, 160.4, 137.3, 165.6, 163.8, 170. ,\n",
       "       157.2, 174.7, 158.6, 168.3, 155.9, 165.5, 172.8, 141.4, 145.8,\n",
       "       157.9, 169.9, 169.3, 158.7, 154.2, 151.3, 170.5, 152.3, 156.8,\n",
       "       145.6, 147. , 162.7, 149.5, 169.3, 165.7, 139.8, 165.7, 148.2,\n",
       "       147.1, 153.9, 151.4, 138.1, 167.7, 160.2, 155. , 152.9, 158.5,\n",
       "       165.2, 145.5, 126.2, 166.7, 159.1, 145. , 182.4, 146.7, 152.3,\n",
       "       159. , 149. , 151.2, 163. , 167.7, 139.4, 161.2, 164.4, 155.1,\n",
       "       164.7, 163.1, 148.9, 170.6, 167. , 133.8, 172.7, 161.2, 153.9,\n",
       "       157.7, 152.2, 166.7, 177.6, 175.3, 178.9, 133.9, 151.3, 207.6,\n",
       "       128.4, 164.3, 140.4, 165.2, 136.6, 127.7, 171.9, 178. , 150. ,\n",
       "       160.3, 171.7, 161.6, 157.1, 144.6, 139.7, 158.8, 187.4, 154.3,\n",
       "       142.5, 168.1, 164.7, 150.2, 179.8, 170.6, 161.7, 174. , 176.8,\n",
       "       145.2, 198.1, 160.7, 134.7, 140.7, 157.3, 168.5, 159.2, 165.6,\n",
       "       148.5, 142.4, 142.8, 186.9, 173.9, 137.3, 175.5, 167.7, 154.7,\n",
       "       184.1, 153.4, 178.6, 176.4, 165.1, 146.3, 159.7, 148.9, 178.8,\n",
       "       156. , 157.6, 166.1, 151.6, 167.3, 158.7, 173.2, 181.3, 151.8,\n",
       "       147.1, 147.7, 154.7, 170.8, 148. , 158.8, 156. , 159. , 144.4,\n",
       "       154.7, 163.4, 167.9, 137.6, 145. , 157.6, 155.8, 156.8, 170.2,\n",
       "       170.5, 141.8, 169.4, 147.8, 165.2, 165.4, 143.4, 159.9, 185.5,\n",
       "       119. , 155.7, 148.3, 159.5, 143.8, 154.6, 183.8, 153. , 191.3,\n",
       "       177. , 158.3, 155.4, 146.8, 153. , 162.6, 155.5, 158.7, 147.7,\n",
       "       164.7, 152.3, 158.9, 144.6, 173.9, 179.5, 168.2, 197.4, 183.7,\n",
       "       185.8, 168.2, 184.6, 150.6, 145.2, 152.8, 161.9, 157.1, 158.3,\n",
       "       189.5, 165.7, 179.6, 150.6, 189.2, 170. , 192.4, 198.1, 131.2,\n",
       "       179.5, 166.2, 148. , 151.1, 156.6, 174.1, 178.5, 179.2, 133.9,\n",
       "       144.7, 147.1, 182.5, 152.5, 187.5, 158.4, 139.9, 159.6, 145.9,\n",
       "       170.8, 180. , 152.3, 187.8, 173.4, 156.1, 152.1, 172.1, 165.2,\n",
       "       160.8, 179.8, 166.1, 171.8, 155.3, 157.7, 172.2, 154.9, 147. ,\n",
       "       143.3, 167.9, 138.6, 168.2, 152.6, 169.1, 141. , 135.3, 170.5,\n",
       "       160.8, 135.7, 170.8, 153.2, 164.1, 147.6, 152. , 153. , 128.5,\n",
       "       157.1, 148.9, 163.8, 146.4, 160.6, 167. , 155.9, 176.6, 171.2,\n",
       "       167.5, 174.9, 140.5, 144.3, 174. , 173.3, 154. , 167.5, 163.4,\n",
       "       154. , 158.7, 153. , 172.6, 151. , 160.2, 166.5, 153.9, 146.5,\n",
       "       149.2, 161.7, 157.3, 186.5, 134.8, 154.6, 169. , 166. , 147.4,\n",
       "       168. , 165.5, 172.4, 132.9, 167.2, 144.6, 167.1, 145. , 188.8,\n",
       "       151.6, 171.2, 154.2, 166.7, 159.8, 160.4, 147.5, 149.3, 132.3,\n",
       "       160.8, 161. , 138.1, 156.1, 166.4, 155. , 150.2, 155.2, 142.6,\n",
       "       163.3, 143. , 157.4, 142. , 162.7, 184.3, 123.3, 148.5, 170.9,\n",
       "       158.7, 139. , 143.9, 171.3, 160.8, 156.4, 155.9, 175.8, 171.3,\n",
       "       159.2, 166. , 159.6, 154.9, 160.2, 159.6, 175.3, 150.4, 154. ,\n",
       "       142.4, 147.6, 176.7, 142.5, 143.5, 167.5])"
      ]
     },
     "execution_count": 76,
     "metadata": {},
     "output_type": "execute_result"
    }
   ],
   "source": [
    "prediction.round(1)"
   ]
  },
  {
   "cell_type": "code",
   "execution_count": 45,
   "id": "ca043c5f",
   "metadata": {},
   "outputs": [
    {
     "data": {
      "text/plain": [
       "Ла Унион Формоза — Унион Санта-Фе                     145.0\n",
       "Комуникасионес Мерседес — Сан-Лоренсо                 141.0\n",
       "Ратиофарм Ульм — Телеком Бонн                         190.0\n",
       "Уни Падерборн — Арт Гиантс Дуссельдорф                146.0\n",
       "Расинг Чивилькой — Атлетико Кильмес Мар-дель-Плата    145.0\n",
       "                                                      ...  \n",
       "Дрезден Титанс — Раста Вехта 2                        188.0\n",
       "Анадолу Эфес — АСВЕЛ Виллербанн                       173.0\n",
       "Пинар Каршияка — Леново Тенерифе                      178.0\n",
       "Зелена-Гура — Легия Варшава                           163.0\n",
       "Лейма Корунья — Мелилья                               179.0\n",
       "Name: tot_fin, Length: 690, dtype: float64"
      ]
     },
     "execution_count": 45,
     "metadata": {},
     "output_type": "execute_result"
    }
   ],
   "source": [
    "ytest"
   ]
  },
  {
   "cell_type": "code",
   "execution_count": 93,
   "id": "ec0c828c",
   "metadata": {},
   "outputs": [
    {
     "data": {
      "text/plain": [
       "array([180.9, 189.4, 172.2, 163.2, 171.2, 183.2, 153.9, 170.7, 162.4,\n",
       "       167.4, 148.2, 170.6, 160.3, 149.1, 182.1, 139.1, 190.2, 189.7,\n",
       "       183. , 142. , 157.4, 157.2, 148.8, 157.2, 184.9, 157.2, 170.4,\n",
       "       165. , 180.5, 154.4, 202.7, 168.3, 159.4, 175.1, 165.8, 151.1,\n",
       "       139.2, 150.4, 149.1, 169.1, 159.6, 155.3, 167.8, 152.3, 182.8,\n",
       "       154.1, 139.6, 150.7, 167.4, 176.3, 169.4, 169.9, 140.5, 164.5,\n",
       "       165.9, 169.5, 153.4, 165.9, 137. , 133.5, 159.9, 168.9, 177.5,\n",
       "       122.3, 166.3, 143.5, 181. , 152.8, 168.7, 155.6, 183.6, 168.4,\n",
       "       164.3, 183. , 156.2, 160.2, 167.6, 159.5, 139.9, 182. , 157.1,\n",
       "       136.4, 177.7, 142.5, 157. , 157.4, 175.3, 191.6, 178.3, 181.3,\n",
       "       170.5, 178.8, 146.7, 157.4, 171.3, 175.1, 126.8, 161.9, 168.4,\n",
       "       162.5, 175.1, 170. , 163.9, 149.9, 145. , 195.3, 139.4, 173.5,\n",
       "       155. , 116.4, 167.9, 169.2, 185.9, 154. , 145.5, 163.2, 164.6,\n",
       "       156.4, 161.4, 139.3, 153.8, 168.8, 166.7, 155.5, 161.4, 153.8,\n",
       "       160.6, 148.8, 162.9, 164.4, 159.8, 163.3, 173.4, 159.4, 165.3,\n",
       "       163.8, 158.9, 173.5, 163.7, 188.5, 153.9, 171.1, 151.1, 162.1,\n",
       "       155.3, 147.1, 151.9, 158.8, 163.6, 194.8, 167.5, 147.8, 190. ,\n",
       "       165.6, 165.9, 175. , 167.6, 140.8, 160.7])"
      ]
     },
     "execution_count": 93,
     "metadata": {},
     "output_type": "execute_result"
    }
   ],
   "source": [
    "pred2.round(1)"
   ]
  },
  {
   "cell_type": "code",
   "execution_count": null,
   "id": "1cbfffd3",
   "metadata": {},
   "outputs": [],
   "source": []
  }
 ],
 "metadata": {
  "kernelspec": {
   "display_name": "Python 3 (ipykernel)",
   "language": "python",
   "name": "python3"
  },
  "language_info": {
   "codemirror_mode": {
    "name": "ipython",
    "version": 3
   },
   "file_extension": ".py",
   "mimetype": "text/x-python",
   "name": "python",
   "nbconvert_exporter": "python",
   "pygments_lexer": "ipython3",
   "version": "3.11.5"
  },
  "toc": {
   "base_numbering": 1,
   "nav_menu": {
    "height": "258.767px",
    "width": "250.764px"
   },
   "number_sections": true,
   "sideBar": true,
   "skip_h1_title": false,
   "title_cell": "Table of Contents",
   "title_sidebar": "Contents",
   "toc_cell": false,
   "toc_position": {
    "height": "calc(100% - 180px)",
    "left": "10px",
    "top": "150px",
    "width": "345.764px"
   },
   "toc_section_display": true,
   "toc_window_display": true
  }
 },
 "nbformat": 4,
 "nbformat_minor": 5
}
