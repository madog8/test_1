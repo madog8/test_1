{
 "cells": [
  {
   "cell_type": "code",
   "outputs": [],
   "source": [
    "import pandas as pd\n",
    "from sklearn.model_selection import train_test_split\n",
    "from sklearn.linear_model import LogisticRegression\n"
   ],
   "metadata": {
    "collapsed": false,
    "ExecuteTime": {
     "end_time": "2024-02-11T12:27:44.474504400Z",
     "start_time": "2024-02-11T12:27:43.657251900Z"
    }
   },
   "id": "f09884d2289d1aa9",
   "execution_count": 2
  },
  {
   "cell_type": "code",
   "outputs": [],
   "source": [
    "df = pd.read_excel('db_X5_cyber.xlsx', index_col=0)"
   ],
   "metadata": {
    "collapsed": false,
    "ExecuteTime": {
     "end_time": "2024-02-11T12:27:48.208569300Z",
     "start_time": "2024-02-11T12:27:46.452233Z"
    }
   },
   "id": "e79de2ffb3b6e173",
   "execution_count": 3
  },
  {
   "cell_type": "code",
   "outputs": [],
   "source": [
    "X = df[['разн тот51-тот']]  # Выбор признаков для обучения модели\n",
    "y = df['Результат']  # Выбор целевой переменной\n",
    "\n",
    "X_train, X_test, y_train, y_test = train_test_split(X, y, test_size=0.2, random_state=42)  # Разделение данных на тренировочную и тестовую выборки\n"
   ],
   "metadata": {
    "collapsed": false,
    "ExecuteTime": {
     "end_time": "2024-02-11T12:28:34.158972100Z",
     "start_time": "2024-02-11T12:28:34.124437800Z"
    }
   },
   "id": "2fbe168b562871e",
   "execution_count": 4
  },
  {
   "cell_type": "code",
   "outputs": [
    {
     "data": {
      "text/plain": "                                               разн тот51-тот\nБарыс — Авангард                                           -1\nАвто Екатеринбург — Чайка Нижний Новгород                  -2\nПортленд Уинтерхокс — Сиэтл Тандербердз                    -1\nМонреаль (GRIB4IK) — Ванкувер (GEENGA01)                    0\nЛос-Анджелес (BALMY2820) — Колорадо (ZAMBONI)               0\n...                                                       ...\nЧикаго (EASYKATKA) — Ванкувер (KULIBANDA)                  -2\nВанкувер (KASPER) — Вашингтон (BIG_TOSTY)                  -3\nМиннесота (Lovelas) — Калгари (Iceman)                      2\nКаролина (FROSYA8) — Детройт (JASON_PLAY)                   4\nКалгари (Iceman) — Флорида (Ovi)                            0\n\n[1862 rows x 1 columns]",
      "text/html": "<div>\n<style scoped>\n    .dataframe tbody tr th:only-of-type {\n        vertical-align: middle;\n    }\n\n    .dataframe tbody tr th {\n        vertical-align: top;\n    }\n\n    .dataframe thead th {\n        text-align: right;\n    }\n</style>\n<table border=\"1\" class=\"dataframe\">\n  <thead>\n    <tr style=\"text-align: right;\">\n      <th></th>\n      <th>разн тот51-тот</th>\n    </tr>\n  </thead>\n  <tbody>\n    <tr>\n      <th>Барыс — Авангард</th>\n      <td>-1</td>\n    </tr>\n    <tr>\n      <th>Авто Екатеринбург — Чайка Нижний Новгород</th>\n      <td>-2</td>\n    </tr>\n    <tr>\n      <th>Портленд Уинтерхокс — Сиэтл Тандербердз</th>\n      <td>-1</td>\n    </tr>\n    <tr>\n      <th>Монреаль (GRIB4IK) — Ванкувер (GEENGA01)</th>\n      <td>0</td>\n    </tr>\n    <tr>\n      <th>Лос-Анджелес (BALMY2820) — Колорадо (ZAMBONI)</th>\n      <td>0</td>\n    </tr>\n    <tr>\n      <th>...</th>\n      <td>...</td>\n    </tr>\n    <tr>\n      <th>Чикаго (EASYKATKA) — Ванкувер (KULIBANDA)</th>\n      <td>-2</td>\n    </tr>\n    <tr>\n      <th>Ванкувер (KASPER) — Вашингтон (BIG_TOSTY)</th>\n      <td>-3</td>\n    </tr>\n    <tr>\n      <th>Миннесота (Lovelas) — Калгари (Iceman)</th>\n      <td>2</td>\n    </tr>\n    <tr>\n      <th>Каролина (FROSYA8) — Детройт (JASON_PLAY)</th>\n      <td>4</td>\n    </tr>\n    <tr>\n      <th>Калгари (Iceman) — Флорида (Ovi)</th>\n      <td>0</td>\n    </tr>\n  </tbody>\n</table>\n<p>1862 rows × 1 columns</p>\n</div>"
     },
     "execution_count": 5,
     "metadata": {},
     "output_type": "execute_result"
    }
   ],
   "source": [
    "X"
   ],
   "metadata": {
    "collapsed": false,
    "ExecuteTime": {
     "end_time": "2024-02-11T12:28:45.930733400Z",
     "start_time": "2024-02-11T12:28:45.889730400Z"
    }
   },
   "id": "ff174bdd704eac28",
   "execution_count": 5
  },
  {
   "cell_type": "code",
   "outputs": [],
   "source": [
    "model = LogisticRegression()  # Создание модели логистической регрессии\n",
    "model.fit(X_train, y_train)  # Обучение модели на тренировочных данных\n",
    "\n",
    "y_pred = model.predict(X_test)  # Получение прогнозов\n"
   ],
   "metadata": {
    "collapsed": false,
    "ExecuteTime": {
     "end_time": "2024-02-11T12:30:02.544392100Z",
     "start_time": "2024-02-11T12:30:02.440865800Z"
    }
   },
   "id": "8f80218adf3d9e3f",
   "execution_count": 6
  },
  {
   "cell_type": "code",
   "outputs": [],
   "source": [
    "accuracy = model.score(X_test, y_test)  # Вычисление точности модели\n"
   ],
   "metadata": {
    "collapsed": false,
    "ExecuteTime": {
     "end_time": "2024-02-11T12:30:07.912621200Z",
     "start_time": "2024-02-11T12:30:07.886624400Z"
    }
   },
   "id": "575816668a66bc49",
   "execution_count": 7
  },
  {
   "cell_type": "code",
   "outputs": [
    {
     "ename": "ValueError",
     "evalue": "Found array with 0 sample(s) (shape=(0, 1)) while a minimum of 1 is required by LogisticRegression.",
     "output_type": "error",
     "traceback": [
      "\u001B[1;31m---------------------------------------------------------------------------\u001B[0m",
      "\u001B[1;31mValueError\u001B[0m                                Traceback (most recent call last)",
      "Cell \u001B[1;32mIn[10], line 7\u001B[0m\n\u001B[0;32m      4\u001B[0m     X_range \u001B[38;5;241m=\u001B[39m X[(X[\u001B[38;5;124m'\u001B[39m\u001B[38;5;124mразн тот51-тот\u001B[39m\u001B[38;5;124m'\u001B[39m] \u001B[38;5;241m>\u001B[39m\u001B[38;5;241m=\u001B[39m threshold) \u001B[38;5;241m&\u001B[39m (X[\u001B[38;5;124m'\u001B[39m\u001B[38;5;124mразн тот51-тот\u001B[39m\u001B[38;5;124m'\u001B[39m] \u001B[38;5;241m<\u001B[39m threshold\u001B[38;5;241m+\u001B[39m\u001B[38;5;241m1\u001B[39m)]  \u001B[38;5;66;03m# Выбор данных в заданном диапазоне\u001B[39;00m\n\u001B[0;32m      5\u001B[0m     y_range \u001B[38;5;241m=\u001B[39m y[X_range\u001B[38;5;241m.\u001B[39mindex]  \u001B[38;5;66;03m# Получение соответствующих значений целевой переменной\u001B[39;00m\n\u001B[1;32m----> 7\u001B[0m     accuracy_range[threshold] \u001B[38;5;241m=\u001B[39m model\u001B[38;5;241m.\u001B[39mscore(X_range, y_range)  \u001B[38;5;66;03m# Вычисление точности для данного диапазона\u001B[39;00m\n\u001B[0;32m      8\u001B[0m \u001B[38;5;66;03m# \u001B[39;00m\n\u001B[0;32m      9\u001B[0m best_accuracy \u001B[38;5;241m=\u001B[39m \u001B[38;5;28mmax\u001B[39m(accuracy_range\u001B[38;5;241m.\u001B[39mvalues())  \u001B[38;5;66;03m# Наибольшая точность\u001B[39;00m\n",
      "File \u001B[1;32m~\\anaconda3\\Lib\\site-packages\\sklearn\\base.py:666\u001B[0m, in \u001B[0;36mClassifierMixin.score\u001B[1;34m(self, X, y, sample_weight)\u001B[0m\n\u001B[0;32m    641\u001B[0m \u001B[38;5;250m\u001B[39m\u001B[38;5;124;03m\"\"\"\u001B[39;00m\n\u001B[0;32m    642\u001B[0m \u001B[38;5;124;03mReturn the mean accuracy on the given test data and labels.\u001B[39;00m\n\u001B[0;32m    643\u001B[0m \n\u001B[1;32m   (...)\u001B[0m\n\u001B[0;32m    662\u001B[0m \u001B[38;5;124;03m    Mean accuracy of ``self.predict(X)`` wrt. `y`.\u001B[39;00m\n\u001B[0;32m    663\u001B[0m \u001B[38;5;124;03m\"\"\"\u001B[39;00m\n\u001B[0;32m    664\u001B[0m \u001B[38;5;28;01mfrom\u001B[39;00m \u001B[38;5;21;01m.\u001B[39;00m\u001B[38;5;21;01mmetrics\u001B[39;00m \u001B[38;5;28;01mimport\u001B[39;00m accuracy_score\n\u001B[1;32m--> 666\u001B[0m \u001B[38;5;28;01mreturn\u001B[39;00m accuracy_score(y, \u001B[38;5;28mself\u001B[39m\u001B[38;5;241m.\u001B[39mpredict(X), sample_weight\u001B[38;5;241m=\u001B[39msample_weight)\n",
      "File \u001B[1;32m~\\anaconda3\\Lib\\site-packages\\sklearn\\linear_model\\_base.py:447\u001B[0m, in \u001B[0;36mLinearClassifierMixin.predict\u001B[1;34m(self, X)\u001B[0m\n\u001B[0;32m    433\u001B[0m \u001B[38;5;28;01mdef\u001B[39;00m \u001B[38;5;21mpredict\u001B[39m(\u001B[38;5;28mself\u001B[39m, X):\n\u001B[0;32m    434\u001B[0m \u001B[38;5;250m    \u001B[39m\u001B[38;5;124;03m\"\"\"\u001B[39;00m\n\u001B[0;32m    435\u001B[0m \u001B[38;5;124;03m    Predict class labels for samples in X.\u001B[39;00m\n\u001B[0;32m    436\u001B[0m \n\u001B[1;32m   (...)\u001B[0m\n\u001B[0;32m    445\u001B[0m \u001B[38;5;124;03m        Vector containing the class labels for each sample.\u001B[39;00m\n\u001B[0;32m    446\u001B[0m \u001B[38;5;124;03m    \"\"\"\u001B[39;00m\n\u001B[1;32m--> 447\u001B[0m     scores \u001B[38;5;241m=\u001B[39m \u001B[38;5;28mself\u001B[39m\u001B[38;5;241m.\u001B[39mdecision_function(X)\n\u001B[0;32m    448\u001B[0m     \u001B[38;5;28;01mif\u001B[39;00m \u001B[38;5;28mlen\u001B[39m(scores\u001B[38;5;241m.\u001B[39mshape) \u001B[38;5;241m==\u001B[39m \u001B[38;5;241m1\u001B[39m:\n\u001B[0;32m    449\u001B[0m         indices \u001B[38;5;241m=\u001B[39m (scores \u001B[38;5;241m>\u001B[39m \u001B[38;5;241m0\u001B[39m)\u001B[38;5;241m.\u001B[39mastype(\u001B[38;5;28mint\u001B[39m)\n",
      "File \u001B[1;32m~\\anaconda3\\Lib\\site-packages\\sklearn\\linear_model\\_base.py:429\u001B[0m, in \u001B[0;36mLinearClassifierMixin.decision_function\u001B[1;34m(self, X)\u001B[0m\n\u001B[0;32m    409\u001B[0m \u001B[38;5;250m\u001B[39m\u001B[38;5;124;03m\"\"\"\u001B[39;00m\n\u001B[0;32m    410\u001B[0m \u001B[38;5;124;03mPredict confidence scores for samples.\u001B[39;00m\n\u001B[0;32m    411\u001B[0m \n\u001B[1;32m   (...)\u001B[0m\n\u001B[0;32m    425\u001B[0m \u001B[38;5;124;03m    this class would be predicted.\u001B[39;00m\n\u001B[0;32m    426\u001B[0m \u001B[38;5;124;03m\"\"\"\u001B[39;00m\n\u001B[0;32m    427\u001B[0m check_is_fitted(\u001B[38;5;28mself\u001B[39m)\n\u001B[1;32m--> 429\u001B[0m X \u001B[38;5;241m=\u001B[39m \u001B[38;5;28mself\u001B[39m\u001B[38;5;241m.\u001B[39m_validate_data(X, accept_sparse\u001B[38;5;241m=\u001B[39m\u001B[38;5;124m\"\u001B[39m\u001B[38;5;124mcsr\u001B[39m\u001B[38;5;124m\"\u001B[39m, reset\u001B[38;5;241m=\u001B[39m\u001B[38;5;28;01mFalse\u001B[39;00m)\n\u001B[0;32m    430\u001B[0m scores \u001B[38;5;241m=\u001B[39m safe_sparse_dot(X, \u001B[38;5;28mself\u001B[39m\u001B[38;5;241m.\u001B[39mcoef_\u001B[38;5;241m.\u001B[39mT, dense_output\u001B[38;5;241m=\u001B[39m\u001B[38;5;28;01mTrue\u001B[39;00m) \u001B[38;5;241m+\u001B[39m \u001B[38;5;28mself\u001B[39m\u001B[38;5;241m.\u001B[39mintercept_\n\u001B[0;32m    431\u001B[0m \u001B[38;5;28;01mreturn\u001B[39;00m scores\u001B[38;5;241m.\u001B[39mravel() \u001B[38;5;28;01mif\u001B[39;00m scores\u001B[38;5;241m.\u001B[39mshape[\u001B[38;5;241m1\u001B[39m] \u001B[38;5;241m==\u001B[39m \u001B[38;5;241m1\u001B[39m \u001B[38;5;28;01melse\u001B[39;00m scores\n",
      "File \u001B[1;32m~\\anaconda3\\Lib\\site-packages\\sklearn\\base.py:577\u001B[0m, in \u001B[0;36mBaseEstimator._validate_data\u001B[1;34m(self, X, y, reset, validate_separately, **check_params)\u001B[0m\n\u001B[0;32m    575\u001B[0m     \u001B[38;5;28;01mraise\u001B[39;00m \u001B[38;5;167;01mValueError\u001B[39;00m(\u001B[38;5;124m\"\u001B[39m\u001B[38;5;124mValidation should be done on X, y or both.\u001B[39m\u001B[38;5;124m\"\u001B[39m)\n\u001B[0;32m    576\u001B[0m \u001B[38;5;28;01melif\u001B[39;00m \u001B[38;5;129;01mnot\u001B[39;00m no_val_X \u001B[38;5;129;01mand\u001B[39;00m no_val_y:\n\u001B[1;32m--> 577\u001B[0m     X \u001B[38;5;241m=\u001B[39m check_array(X, input_name\u001B[38;5;241m=\u001B[39m\u001B[38;5;124m\"\u001B[39m\u001B[38;5;124mX\u001B[39m\u001B[38;5;124m\"\u001B[39m, \u001B[38;5;241m*\u001B[39m\u001B[38;5;241m*\u001B[39mcheck_params)\n\u001B[0;32m    578\u001B[0m     out \u001B[38;5;241m=\u001B[39m X\n\u001B[0;32m    579\u001B[0m \u001B[38;5;28;01melif\u001B[39;00m no_val_X \u001B[38;5;129;01mand\u001B[39;00m \u001B[38;5;129;01mnot\u001B[39;00m no_val_y:\n",
      "File \u001B[1;32m~\\anaconda3\\Lib\\site-packages\\sklearn\\utils\\validation.py:909\u001B[0m, in \u001B[0;36mcheck_array\u001B[1;34m(array, accept_sparse, accept_large_sparse, dtype, order, copy, force_all_finite, ensure_2d, allow_nd, ensure_min_samples, ensure_min_features, estimator, input_name)\u001B[0m\n\u001B[0;32m    907\u001B[0m     n_samples \u001B[38;5;241m=\u001B[39m _num_samples(array)\n\u001B[0;32m    908\u001B[0m     \u001B[38;5;28;01mif\u001B[39;00m n_samples \u001B[38;5;241m<\u001B[39m ensure_min_samples:\n\u001B[1;32m--> 909\u001B[0m         \u001B[38;5;28;01mraise\u001B[39;00m \u001B[38;5;167;01mValueError\u001B[39;00m(\n\u001B[0;32m    910\u001B[0m             \u001B[38;5;124m\"\u001B[39m\u001B[38;5;124mFound array with \u001B[39m\u001B[38;5;132;01m%d\u001B[39;00m\u001B[38;5;124m sample(s) (shape=\u001B[39m\u001B[38;5;132;01m%s\u001B[39;00m\u001B[38;5;124m) while a\u001B[39m\u001B[38;5;124m\"\u001B[39m\n\u001B[0;32m    911\u001B[0m             \u001B[38;5;124m\"\u001B[39m\u001B[38;5;124m minimum of \u001B[39m\u001B[38;5;132;01m%d\u001B[39;00m\u001B[38;5;124m is required\u001B[39m\u001B[38;5;132;01m%s\u001B[39;00m\u001B[38;5;124m.\u001B[39m\u001B[38;5;124m\"\u001B[39m\n\u001B[0;32m    912\u001B[0m             \u001B[38;5;241m%\u001B[39m (n_samples, array\u001B[38;5;241m.\u001B[39mshape, ensure_min_samples, context)\n\u001B[0;32m    913\u001B[0m         )\n\u001B[0;32m    915\u001B[0m \u001B[38;5;28;01mif\u001B[39;00m ensure_min_features \u001B[38;5;241m>\u001B[39m \u001B[38;5;241m0\u001B[39m \u001B[38;5;129;01mand\u001B[39;00m array\u001B[38;5;241m.\u001B[39mndim \u001B[38;5;241m==\u001B[39m \u001B[38;5;241m2\u001B[39m:\n\u001B[0;32m    916\u001B[0m     n_features \u001B[38;5;241m=\u001B[39m array\u001B[38;5;241m.\u001B[39mshape[\u001B[38;5;241m1\u001B[39m]\n",
      "\u001B[1;31mValueError\u001B[0m: Found array with 0 sample(s) (shape=(0, 1)) while a minimum of 1 is required by LogisticRegression."
     ]
    }
   ],
   "source": [
    "accuracy_range = {}  # Словарь для хранения значений точности для каждого диапазона\n",
    "\n",
    "for threshold in range(-10, 10):  # Перебор возможных значений диапазона от -10 до 10\n",
    "    X_range = X[(X['разн тот51-тот'] >= threshold) & (X['разн тот51-тот'] < threshold+1)]  # Выбор данных в заданном диапазоне\n",
    "    y_range = y[X_range.index]  # Получение соответствующих значений целевой переменной\n",
    "\n",
    "    accuracy_range[threshold] = model.score(X_range, y_range)  # Вычисление точности для данного диапазона\n",
    "# \n",
    "best_accuracy = max(accuracy_range.values())  # Наибольшая точность\n",
    "best_threshold = max(accuracy_range, key=accuracy_range.get)  # Значение диапазона с наибольшей точностью\n",
    "\n",
    "print(f\"Наиболее оптимальный диапазон значений: от {best_threshold} до {best_threshold+1}\")\n",
    "print(f\"Точность модели для данного диапазона: {best_accuracy}\")\n"
   ],
   "metadata": {
    "collapsed": false,
    "ExecuteTime": {
     "end_time": "2024-02-11T12:32:15.034428800Z",
     "start_time": "2024-02-11T12:32:14.875382100Z"
    }
   },
   "id": "b09ac0738693e430",
   "execution_count": 10
  },
  {
   "cell_type": "code",
   "outputs": [],
   "source": [],
   "metadata": {
    "collapsed": false
   },
   "id": "6926b450549ccacc"
  },
  {
   "cell_type": "code",
   "outputs": [
    {
     "ename": "ValueError",
     "evalue": "Invalid parameter 'разн тот51-тот' for estimator RandomForestClassifier(). Valid parameters are: ['bootstrap', 'ccp_alpha', 'class_weight', 'criterion', 'max_depth', 'max_features', 'max_leaf_nodes', 'max_samples', 'min_impurity_decrease', 'min_samples_leaf', 'min_samples_split', 'min_weight_fraction_leaf', 'n_estimators', 'n_jobs', 'oob_score', 'random_state', 'verbose', 'warm_start'].",
     "output_type": "error",
     "traceback": [
      "\u001B[1;31m---------------------------------------------------------------------------\u001B[0m",
      "\u001B[1;31mValueError\u001B[0m                                Traceback (most recent call last)",
      "Cell \u001B[1;32mIn[44], line 22\u001B[0m\n\u001B[0;32m     20\u001B[0m \u001B[38;5;66;03m# Поиск наилучших параметров с помощью GridSearchCV\u001B[39;00m\n\u001B[0;32m     21\u001B[0m grid_search \u001B[38;5;241m=\u001B[39m GridSearchCV(model, param_grid, cv\u001B[38;5;241m=\u001B[39m\u001B[38;5;241m5\u001B[39m, scoring\u001B[38;5;241m=\u001B[39m\u001B[38;5;124m'\u001B[39m\u001B[38;5;124maccuracy\u001B[39m\u001B[38;5;124m'\u001B[39m)\n\u001B[1;32m---> 22\u001B[0m grid_search\u001B[38;5;241m.\u001B[39mfit(X, y)\n\u001B[0;32m     24\u001B[0m \u001B[38;5;66;03m# Вывод результатов\u001B[39;00m\n\u001B[0;32m     25\u001B[0m best_params \u001B[38;5;241m=\u001B[39m grid_search\u001B[38;5;241m.\u001B[39mbest_params_\n",
      "File \u001B[1;32m~\\anaconda3\\Lib\\site-packages\\sklearn\\model_selection\\_search.py:875\u001B[0m, in \u001B[0;36mBaseSearchCV.fit\u001B[1;34m(self, X, y, groups, **fit_params)\u001B[0m\n\u001B[0;32m    869\u001B[0m     results \u001B[38;5;241m=\u001B[39m \u001B[38;5;28mself\u001B[39m\u001B[38;5;241m.\u001B[39m_format_results(\n\u001B[0;32m    870\u001B[0m         all_candidate_params, n_splits, all_out, all_more_results\n\u001B[0;32m    871\u001B[0m     )\n\u001B[0;32m    873\u001B[0m     \u001B[38;5;28;01mreturn\u001B[39;00m results\n\u001B[1;32m--> 875\u001B[0m \u001B[38;5;28mself\u001B[39m\u001B[38;5;241m.\u001B[39m_run_search(evaluate_candidates)\n\u001B[0;32m    877\u001B[0m \u001B[38;5;66;03m# multimetric is determined here because in the case of a callable\u001B[39;00m\n\u001B[0;32m    878\u001B[0m \u001B[38;5;66;03m# self.scoring the return type is only known after calling\u001B[39;00m\n\u001B[0;32m    879\u001B[0m first_test_score \u001B[38;5;241m=\u001B[39m all_out[\u001B[38;5;241m0\u001B[39m][\u001B[38;5;124m\"\u001B[39m\u001B[38;5;124mtest_scores\u001B[39m\u001B[38;5;124m\"\u001B[39m]\n",
      "File \u001B[1;32m~\\anaconda3\\Lib\\site-packages\\sklearn\\model_selection\\_search.py:1389\u001B[0m, in \u001B[0;36mGridSearchCV._run_search\u001B[1;34m(self, evaluate_candidates)\u001B[0m\n\u001B[0;32m   1387\u001B[0m \u001B[38;5;28;01mdef\u001B[39;00m \u001B[38;5;21m_run_search\u001B[39m(\u001B[38;5;28mself\u001B[39m, evaluate_candidates):\n\u001B[0;32m   1388\u001B[0m \u001B[38;5;250m    \u001B[39m\u001B[38;5;124;03m\"\"\"Search all candidates in param_grid\"\"\"\u001B[39;00m\n\u001B[1;32m-> 1389\u001B[0m     evaluate_candidates(ParameterGrid(\u001B[38;5;28mself\u001B[39m\u001B[38;5;241m.\u001B[39mparam_grid))\n",
      "File \u001B[1;32m~\\anaconda3\\Lib\\site-packages\\sklearn\\model_selection\\_search.py:822\u001B[0m, in \u001B[0;36mBaseSearchCV.fit.<locals>.evaluate_candidates\u001B[1;34m(candidate_params, cv, more_results)\u001B[0m\n\u001B[0;32m    814\u001B[0m \u001B[38;5;28;01mif\u001B[39;00m \u001B[38;5;28mself\u001B[39m\u001B[38;5;241m.\u001B[39mverbose \u001B[38;5;241m>\u001B[39m \u001B[38;5;241m0\u001B[39m:\n\u001B[0;32m    815\u001B[0m     \u001B[38;5;28mprint\u001B[39m(\n\u001B[0;32m    816\u001B[0m         \u001B[38;5;124m\"\u001B[39m\u001B[38;5;124mFitting \u001B[39m\u001B[38;5;132;01m{0}\u001B[39;00m\u001B[38;5;124m folds for each of \u001B[39m\u001B[38;5;132;01m{1}\u001B[39;00m\u001B[38;5;124m candidates,\u001B[39m\u001B[38;5;124m\"\u001B[39m\n\u001B[0;32m    817\u001B[0m         \u001B[38;5;124m\"\u001B[39m\u001B[38;5;124m totalling \u001B[39m\u001B[38;5;132;01m{2}\u001B[39;00m\u001B[38;5;124m fits\u001B[39m\u001B[38;5;124m\"\u001B[39m\u001B[38;5;241m.\u001B[39mformat(\n\u001B[0;32m    818\u001B[0m             n_splits, n_candidates, n_candidates \u001B[38;5;241m*\u001B[39m n_splits\n\u001B[0;32m    819\u001B[0m         )\n\u001B[0;32m    820\u001B[0m     )\n\u001B[1;32m--> 822\u001B[0m out \u001B[38;5;241m=\u001B[39m parallel(\n\u001B[0;32m    823\u001B[0m     delayed(_fit_and_score)(\n\u001B[0;32m    824\u001B[0m         clone(base_estimator),\n\u001B[0;32m    825\u001B[0m         X,\n\u001B[0;32m    826\u001B[0m         y,\n\u001B[0;32m    827\u001B[0m         train\u001B[38;5;241m=\u001B[39mtrain,\n\u001B[0;32m    828\u001B[0m         test\u001B[38;5;241m=\u001B[39mtest,\n\u001B[0;32m    829\u001B[0m         parameters\u001B[38;5;241m=\u001B[39mparameters,\n\u001B[0;32m    830\u001B[0m         split_progress\u001B[38;5;241m=\u001B[39m(split_idx, n_splits),\n\u001B[0;32m    831\u001B[0m         candidate_progress\u001B[38;5;241m=\u001B[39m(cand_idx, n_candidates),\n\u001B[0;32m    832\u001B[0m         \u001B[38;5;241m*\u001B[39m\u001B[38;5;241m*\u001B[39mfit_and_score_kwargs,\n\u001B[0;32m    833\u001B[0m     )\n\u001B[0;32m    834\u001B[0m     \u001B[38;5;28;01mfor\u001B[39;00m (cand_idx, parameters), (split_idx, (train, test)) \u001B[38;5;129;01min\u001B[39;00m product(\n\u001B[0;32m    835\u001B[0m         \u001B[38;5;28menumerate\u001B[39m(candidate_params), \u001B[38;5;28menumerate\u001B[39m(cv\u001B[38;5;241m.\u001B[39msplit(X, y, groups))\n\u001B[0;32m    836\u001B[0m     )\n\u001B[0;32m    837\u001B[0m )\n\u001B[0;32m    839\u001B[0m \u001B[38;5;28;01mif\u001B[39;00m \u001B[38;5;28mlen\u001B[39m(out) \u001B[38;5;241m<\u001B[39m \u001B[38;5;241m1\u001B[39m:\n\u001B[0;32m    840\u001B[0m     \u001B[38;5;28;01mraise\u001B[39;00m \u001B[38;5;167;01mValueError\u001B[39;00m(\n\u001B[0;32m    841\u001B[0m         \u001B[38;5;124m\"\u001B[39m\u001B[38;5;124mNo fits were performed. \u001B[39m\u001B[38;5;124m\"\u001B[39m\n\u001B[0;32m    842\u001B[0m         \u001B[38;5;124m\"\u001B[39m\u001B[38;5;124mWas the CV iterator empty? \u001B[39m\u001B[38;5;124m\"\u001B[39m\n\u001B[0;32m    843\u001B[0m         \u001B[38;5;124m\"\u001B[39m\u001B[38;5;124mWere there no candidates?\u001B[39m\u001B[38;5;124m\"\u001B[39m\n\u001B[0;32m    844\u001B[0m     )\n",
      "File \u001B[1;32m~\\anaconda3\\Lib\\site-packages\\joblib\\parallel.py:1085\u001B[0m, in \u001B[0;36mParallel.__call__\u001B[1;34m(self, iterable)\u001B[0m\n\u001B[0;32m   1076\u001B[0m \u001B[38;5;28;01mtry\u001B[39;00m:\n\u001B[0;32m   1077\u001B[0m     \u001B[38;5;66;03m# Only set self._iterating to True if at least a batch\u001B[39;00m\n\u001B[0;32m   1078\u001B[0m     \u001B[38;5;66;03m# was dispatched. In particular this covers the edge\u001B[39;00m\n\u001B[1;32m   (...)\u001B[0m\n\u001B[0;32m   1082\u001B[0m     \u001B[38;5;66;03m# was very quick and its callback already dispatched all the\u001B[39;00m\n\u001B[0;32m   1083\u001B[0m     \u001B[38;5;66;03m# remaining jobs.\u001B[39;00m\n\u001B[0;32m   1084\u001B[0m     \u001B[38;5;28mself\u001B[39m\u001B[38;5;241m.\u001B[39m_iterating \u001B[38;5;241m=\u001B[39m \u001B[38;5;28;01mFalse\u001B[39;00m\n\u001B[1;32m-> 1085\u001B[0m     \u001B[38;5;28;01mif\u001B[39;00m \u001B[38;5;28mself\u001B[39m\u001B[38;5;241m.\u001B[39mdispatch_one_batch(iterator):\n\u001B[0;32m   1086\u001B[0m         \u001B[38;5;28mself\u001B[39m\u001B[38;5;241m.\u001B[39m_iterating \u001B[38;5;241m=\u001B[39m \u001B[38;5;28mself\u001B[39m\u001B[38;5;241m.\u001B[39m_original_iterator \u001B[38;5;129;01mis\u001B[39;00m \u001B[38;5;129;01mnot\u001B[39;00m \u001B[38;5;28;01mNone\u001B[39;00m\n\u001B[0;32m   1088\u001B[0m     \u001B[38;5;28;01mwhile\u001B[39;00m \u001B[38;5;28mself\u001B[39m\u001B[38;5;241m.\u001B[39mdispatch_one_batch(iterator):\n",
      "File \u001B[1;32m~\\anaconda3\\Lib\\site-packages\\joblib\\parallel.py:901\u001B[0m, in \u001B[0;36mParallel.dispatch_one_batch\u001B[1;34m(self, iterator)\u001B[0m\n\u001B[0;32m    899\u001B[0m     \u001B[38;5;28;01mreturn\u001B[39;00m \u001B[38;5;28;01mFalse\u001B[39;00m\n\u001B[0;32m    900\u001B[0m \u001B[38;5;28;01melse\u001B[39;00m:\n\u001B[1;32m--> 901\u001B[0m     \u001B[38;5;28mself\u001B[39m\u001B[38;5;241m.\u001B[39m_dispatch(tasks)\n\u001B[0;32m    902\u001B[0m     \u001B[38;5;28;01mreturn\u001B[39;00m \u001B[38;5;28;01mTrue\u001B[39;00m\n",
      "File \u001B[1;32m~\\anaconda3\\Lib\\site-packages\\joblib\\parallel.py:819\u001B[0m, in \u001B[0;36mParallel._dispatch\u001B[1;34m(self, batch)\u001B[0m\n\u001B[0;32m    817\u001B[0m \u001B[38;5;28;01mwith\u001B[39;00m \u001B[38;5;28mself\u001B[39m\u001B[38;5;241m.\u001B[39m_lock:\n\u001B[0;32m    818\u001B[0m     job_idx \u001B[38;5;241m=\u001B[39m \u001B[38;5;28mlen\u001B[39m(\u001B[38;5;28mself\u001B[39m\u001B[38;5;241m.\u001B[39m_jobs)\n\u001B[1;32m--> 819\u001B[0m     job \u001B[38;5;241m=\u001B[39m \u001B[38;5;28mself\u001B[39m\u001B[38;5;241m.\u001B[39m_backend\u001B[38;5;241m.\u001B[39mapply_async(batch, callback\u001B[38;5;241m=\u001B[39mcb)\n\u001B[0;32m    820\u001B[0m     \u001B[38;5;66;03m# A job can complete so quickly than its callback is\u001B[39;00m\n\u001B[0;32m    821\u001B[0m     \u001B[38;5;66;03m# called before we get here, causing self._jobs to\u001B[39;00m\n\u001B[0;32m    822\u001B[0m     \u001B[38;5;66;03m# grow. To ensure correct results ordering, .insert is\u001B[39;00m\n\u001B[0;32m    823\u001B[0m     \u001B[38;5;66;03m# used (rather than .append) in the following line\u001B[39;00m\n\u001B[0;32m    824\u001B[0m     \u001B[38;5;28mself\u001B[39m\u001B[38;5;241m.\u001B[39m_jobs\u001B[38;5;241m.\u001B[39minsert(job_idx, job)\n",
      "File \u001B[1;32m~\\anaconda3\\Lib\\site-packages\\joblib\\_parallel_backends.py:208\u001B[0m, in \u001B[0;36mSequentialBackend.apply_async\u001B[1;34m(self, func, callback)\u001B[0m\n\u001B[0;32m    206\u001B[0m \u001B[38;5;28;01mdef\u001B[39;00m \u001B[38;5;21mapply_async\u001B[39m(\u001B[38;5;28mself\u001B[39m, func, callback\u001B[38;5;241m=\u001B[39m\u001B[38;5;28;01mNone\u001B[39;00m):\n\u001B[0;32m    207\u001B[0m \u001B[38;5;250m    \u001B[39m\u001B[38;5;124;03m\"\"\"Schedule a func to be run\"\"\"\u001B[39;00m\n\u001B[1;32m--> 208\u001B[0m     result \u001B[38;5;241m=\u001B[39m ImmediateResult(func)\n\u001B[0;32m    209\u001B[0m     \u001B[38;5;28;01mif\u001B[39;00m callback:\n\u001B[0;32m    210\u001B[0m         callback(result)\n",
      "File \u001B[1;32m~\\anaconda3\\Lib\\site-packages\\joblib\\_parallel_backends.py:597\u001B[0m, in \u001B[0;36mImmediateResult.__init__\u001B[1;34m(self, batch)\u001B[0m\n\u001B[0;32m    594\u001B[0m \u001B[38;5;28;01mdef\u001B[39;00m \u001B[38;5;21m__init__\u001B[39m(\u001B[38;5;28mself\u001B[39m, batch):\n\u001B[0;32m    595\u001B[0m     \u001B[38;5;66;03m# Don't delay the application, to avoid keeping the input\u001B[39;00m\n\u001B[0;32m    596\u001B[0m     \u001B[38;5;66;03m# arguments in memory\u001B[39;00m\n\u001B[1;32m--> 597\u001B[0m     \u001B[38;5;28mself\u001B[39m\u001B[38;5;241m.\u001B[39mresults \u001B[38;5;241m=\u001B[39m batch()\n",
      "File \u001B[1;32m~\\anaconda3\\Lib\\site-packages\\joblib\\parallel.py:288\u001B[0m, in \u001B[0;36mBatchedCalls.__call__\u001B[1;34m(self)\u001B[0m\n\u001B[0;32m    284\u001B[0m \u001B[38;5;28;01mdef\u001B[39;00m \u001B[38;5;21m__call__\u001B[39m(\u001B[38;5;28mself\u001B[39m):\n\u001B[0;32m    285\u001B[0m     \u001B[38;5;66;03m# Set the default nested backend to self._backend but do not set the\u001B[39;00m\n\u001B[0;32m    286\u001B[0m     \u001B[38;5;66;03m# change the default number of processes to -1\u001B[39;00m\n\u001B[0;32m    287\u001B[0m     \u001B[38;5;28;01mwith\u001B[39;00m parallel_backend(\u001B[38;5;28mself\u001B[39m\u001B[38;5;241m.\u001B[39m_backend, n_jobs\u001B[38;5;241m=\u001B[39m\u001B[38;5;28mself\u001B[39m\u001B[38;5;241m.\u001B[39m_n_jobs):\n\u001B[1;32m--> 288\u001B[0m         \u001B[38;5;28;01mreturn\u001B[39;00m [func(\u001B[38;5;241m*\u001B[39margs, \u001B[38;5;241m*\u001B[39m\u001B[38;5;241m*\u001B[39mkwargs)\n\u001B[0;32m    289\u001B[0m                 \u001B[38;5;28;01mfor\u001B[39;00m func, args, kwargs \u001B[38;5;129;01min\u001B[39;00m \u001B[38;5;28mself\u001B[39m\u001B[38;5;241m.\u001B[39mitems]\n",
      "File \u001B[1;32m~\\anaconda3\\Lib\\site-packages\\joblib\\parallel.py:288\u001B[0m, in \u001B[0;36m<listcomp>\u001B[1;34m(.0)\u001B[0m\n\u001B[0;32m    284\u001B[0m \u001B[38;5;28;01mdef\u001B[39;00m \u001B[38;5;21m__call__\u001B[39m(\u001B[38;5;28mself\u001B[39m):\n\u001B[0;32m    285\u001B[0m     \u001B[38;5;66;03m# Set the default nested backend to self._backend but do not set the\u001B[39;00m\n\u001B[0;32m    286\u001B[0m     \u001B[38;5;66;03m# change the default number of processes to -1\u001B[39;00m\n\u001B[0;32m    287\u001B[0m     \u001B[38;5;28;01mwith\u001B[39;00m parallel_backend(\u001B[38;5;28mself\u001B[39m\u001B[38;5;241m.\u001B[39m_backend, n_jobs\u001B[38;5;241m=\u001B[39m\u001B[38;5;28mself\u001B[39m\u001B[38;5;241m.\u001B[39m_n_jobs):\n\u001B[1;32m--> 288\u001B[0m         \u001B[38;5;28;01mreturn\u001B[39;00m [func(\u001B[38;5;241m*\u001B[39margs, \u001B[38;5;241m*\u001B[39m\u001B[38;5;241m*\u001B[39mkwargs)\n\u001B[0;32m    289\u001B[0m                 \u001B[38;5;28;01mfor\u001B[39;00m func, args, kwargs \u001B[38;5;129;01min\u001B[39;00m \u001B[38;5;28mself\u001B[39m\u001B[38;5;241m.\u001B[39mitems]\n",
      "File \u001B[1;32m~\\anaconda3\\Lib\\site-packages\\sklearn\\utils\\fixes.py:117\u001B[0m, in \u001B[0;36m_FuncWrapper.__call__\u001B[1;34m(self, *args, **kwargs)\u001B[0m\n\u001B[0;32m    115\u001B[0m \u001B[38;5;28;01mdef\u001B[39;00m \u001B[38;5;21m__call__\u001B[39m(\u001B[38;5;28mself\u001B[39m, \u001B[38;5;241m*\u001B[39margs, \u001B[38;5;241m*\u001B[39m\u001B[38;5;241m*\u001B[39mkwargs):\n\u001B[0;32m    116\u001B[0m     \u001B[38;5;28;01mwith\u001B[39;00m config_context(\u001B[38;5;241m*\u001B[39m\u001B[38;5;241m*\u001B[39m\u001B[38;5;28mself\u001B[39m\u001B[38;5;241m.\u001B[39mconfig):\n\u001B[1;32m--> 117\u001B[0m         \u001B[38;5;28;01mreturn\u001B[39;00m \u001B[38;5;28mself\u001B[39m\u001B[38;5;241m.\u001B[39mfunction(\u001B[38;5;241m*\u001B[39margs, \u001B[38;5;241m*\u001B[39m\u001B[38;5;241m*\u001B[39mkwargs)\n",
      "File \u001B[1;32m~\\anaconda3\\Lib\\site-packages\\sklearn\\model_selection\\_validation.py:674\u001B[0m, in \u001B[0;36m_fit_and_score\u001B[1;34m(estimator, X, y, scorer, train, test, verbose, parameters, fit_params, return_train_score, return_parameters, return_n_test_samples, return_times, return_estimator, split_progress, candidate_progress, error_score)\u001B[0m\n\u001B[0;32m    671\u001B[0m     \u001B[38;5;28;01mfor\u001B[39;00m k, v \u001B[38;5;129;01min\u001B[39;00m parameters\u001B[38;5;241m.\u001B[39mitems():\n\u001B[0;32m    672\u001B[0m         cloned_parameters[k] \u001B[38;5;241m=\u001B[39m clone(v, safe\u001B[38;5;241m=\u001B[39m\u001B[38;5;28;01mFalse\u001B[39;00m)\n\u001B[1;32m--> 674\u001B[0m     estimator \u001B[38;5;241m=\u001B[39m estimator\u001B[38;5;241m.\u001B[39mset_params(\u001B[38;5;241m*\u001B[39m\u001B[38;5;241m*\u001B[39mcloned_parameters)\n\u001B[0;32m    676\u001B[0m start_time \u001B[38;5;241m=\u001B[39m time\u001B[38;5;241m.\u001B[39mtime()\n\u001B[0;32m    678\u001B[0m X_train, y_train \u001B[38;5;241m=\u001B[39m _safe_split(estimator, X, y, train)\n",
      "File \u001B[1;32m~\\anaconda3\\Lib\\site-packages\\sklearn\\base.py:246\u001B[0m, in \u001B[0;36mBaseEstimator.set_params\u001B[1;34m(self, **params)\u001B[0m\n\u001B[0;32m    244\u001B[0m \u001B[38;5;28;01mif\u001B[39;00m key \u001B[38;5;129;01mnot\u001B[39;00m \u001B[38;5;129;01min\u001B[39;00m valid_params:\n\u001B[0;32m    245\u001B[0m     local_valid_params \u001B[38;5;241m=\u001B[39m \u001B[38;5;28mself\u001B[39m\u001B[38;5;241m.\u001B[39m_get_param_names()\n\u001B[1;32m--> 246\u001B[0m     \u001B[38;5;28;01mraise\u001B[39;00m \u001B[38;5;167;01mValueError\u001B[39;00m(\n\u001B[0;32m    247\u001B[0m         \u001B[38;5;124mf\u001B[39m\u001B[38;5;124m\"\u001B[39m\u001B[38;5;124mInvalid parameter \u001B[39m\u001B[38;5;132;01m{\u001B[39;00mkey\u001B[38;5;132;01m!r}\u001B[39;00m\u001B[38;5;124m for estimator \u001B[39m\u001B[38;5;132;01m{\u001B[39;00m\u001B[38;5;28mself\u001B[39m\u001B[38;5;132;01m}\u001B[39;00m\u001B[38;5;124m. \u001B[39m\u001B[38;5;124m\"\u001B[39m\n\u001B[0;32m    248\u001B[0m         \u001B[38;5;124mf\u001B[39m\u001B[38;5;124m\"\u001B[39m\u001B[38;5;124mValid parameters are: \u001B[39m\u001B[38;5;132;01m{\u001B[39;00mlocal_valid_params\u001B[38;5;132;01m!r}\u001B[39;00m\u001B[38;5;124m.\u001B[39m\u001B[38;5;124m\"\u001B[39m\n\u001B[0;32m    249\u001B[0m     )\n\u001B[0;32m    251\u001B[0m \u001B[38;5;28;01mif\u001B[39;00m delim:\n\u001B[0;32m    252\u001B[0m     nested_params[key][sub_key] \u001B[38;5;241m=\u001B[39m value\n",
      "\u001B[1;31mValueError\u001B[0m: Invalid parameter 'разн тот51-тот' for estimator RandomForestClassifier(). Valid parameters are: ['bootstrap', 'ccp_alpha', 'class_weight', 'criterion', 'max_depth', 'max_features', 'max_leaf_nodes', 'max_samples', 'min_impurity_decrease', 'min_samples_leaf', 'min_samples_split', 'min_weight_fraction_leaf', 'n_estimators', 'n_jobs', 'oob_score', 'random_state', 'verbose', 'warm_start']."
     ]
    }
   ],
   "source": [
    "import pandas as pd\n",
    "from sklearn.model_selection import GridSearchCV\n",
    "from sklearn.ensemble import RandomForestClassifier\n",
    "\n",
    "# Загрузка данных\n",
    "\n",
    "\n",
    "# Определение признаков и целевой переменной\n",
    "X = df[['разн тот51-тот']]\n",
    "y = df['Результат']\n",
    "\n",
    "# Определение модели\n",
    "model = RandomForestClassifier()\n",
    "\n",
    "# Определение диапазонов значений для параметра 'разн тот51-тот'\n",
    "param_grid = {\n",
    "    'разн тот51-тот': [(-4, -1), (-1, 1), (1, 3), (3, 10)]  # Пример диапазонов значений для 'разн тот51-тот'\n",
    "}\n",
    "\n",
    "# Поиск наилучших параметров с помощью GridSearchCV\n",
    "grid_search = GridSearchCV(model, param_grid, cv=5, scoring='accuracy')\n",
    "grid_search.fit(X, y)\n",
    "\n",
    "# Вывод результатов\n",
    "best_params = grid_search.best_params_\n",
    "print(\"Наилучший диапазон значений для признака 'разн тот51-тот':\", best_params['разн тот51-тот'])\n"
   ],
   "metadata": {
    "collapsed": false,
    "ExecuteTime": {
     "end_time": "2024-02-10T15:50:11.771914900Z",
     "start_time": "2024-02-10T15:50:10.621808400Z"
    }
   },
   "id": "1c8c772f7bc3996f",
   "execution_count": 44
  },
  {
   "cell_type": "code",
   "outputs": [],
   "source": [
    "df_filtered = df[df['Результат'] == 1]"
   ],
   "metadata": {
    "collapsed": false,
    "ExecuteTime": {
     "end_time": "2024-02-11T14:00:22.849328700Z",
     "start_time": "2024-02-11T14:00:22.822273400Z"
    }
   },
   "id": "8f99120a5dec8352",
   "execution_count": 11
  },
  {
   "cell_type": "code",
   "outputs": [
    {
     "ename": "ValueError",
     "evalue": "The truth value of a Series is ambiguous. Use a.empty, a.bool(), a.item(), a.any() or a.all().",
     "output_type": "error",
     "traceback": [
      "\u001B[1;31m---------------------------------------------------------------------------\u001B[0m",
      "\u001B[1;31mValueError\u001B[0m                                Traceback (most recent call last)",
      "Cell \u001B[1;32mIn[17], line 1\u001B[0m\n\u001B[1;32m----> 1\u001B[0m grouped_data \u001B[38;5;241m=\u001B[39m df_filtered\u001B[38;5;241m.\u001B[39mgroupby(df_filtered[\u001B[38;5;124m'\u001B[39m\u001B[38;5;124mразн тот51-тот\u001B[39m\u001B[38;5;124m'\u001B[39m])\u001B[38;5;241m.\u001B[39msum(df_filtered[\u001B[38;5;124m'\u001B[39m\u001B[38;5;124mkef_TM\u001B[39m\u001B[38;5;124m'\u001B[39m])\n",
      "File \u001B[1;32m~\\anaconda3\\Lib\\site-packages\\pandas\\core\\groupby\\groupby.py:2456\u001B[0m, in \u001B[0;36mGroupBy.sum\u001B[1;34m(self, numeric_only, min_count, engine, engine_kwargs)\u001B[0m\n\u001B[0;32m   2451\u001B[0m \u001B[38;5;28;01melse\u001B[39;00m:\n\u001B[0;32m   2452\u001B[0m     \u001B[38;5;66;03m# If we are grouping on categoricals we want unobserved categories to\u001B[39;00m\n\u001B[0;32m   2453\u001B[0m     \u001B[38;5;66;03m# return zero, rather than the default of NaN which the reindexing in\u001B[39;00m\n\u001B[0;32m   2454\u001B[0m     \u001B[38;5;66;03m# _agg_general() returns. GH #31422\u001B[39;00m\n\u001B[0;32m   2455\u001B[0m     \u001B[38;5;28;01mwith\u001B[39;00m com\u001B[38;5;241m.\u001B[39mtemp_setattr(\u001B[38;5;28mself\u001B[39m, \u001B[38;5;124m\"\u001B[39m\u001B[38;5;124mobserved\u001B[39m\u001B[38;5;124m\"\u001B[39m, \u001B[38;5;28;01mTrue\u001B[39;00m):\n\u001B[1;32m-> 2456\u001B[0m         result \u001B[38;5;241m=\u001B[39m \u001B[38;5;28mself\u001B[39m\u001B[38;5;241m.\u001B[39m_agg_general(\n\u001B[0;32m   2457\u001B[0m             numeric_only\u001B[38;5;241m=\u001B[39mnumeric_only,\n\u001B[0;32m   2458\u001B[0m             min_count\u001B[38;5;241m=\u001B[39mmin_count,\n\u001B[0;32m   2459\u001B[0m             alias\u001B[38;5;241m=\u001B[39m\u001B[38;5;124m\"\u001B[39m\u001B[38;5;124msum\u001B[39m\u001B[38;5;124m\"\u001B[39m,\n\u001B[0;32m   2460\u001B[0m             npfunc\u001B[38;5;241m=\u001B[39mnp\u001B[38;5;241m.\u001B[39msum,\n\u001B[0;32m   2461\u001B[0m         )\n\u001B[0;32m   2463\u001B[0m     \u001B[38;5;28;01mreturn\u001B[39;00m \u001B[38;5;28mself\u001B[39m\u001B[38;5;241m.\u001B[39m_reindex_output(result, fill_value\u001B[38;5;241m=\u001B[39m\u001B[38;5;241m0\u001B[39m)\n",
      "File \u001B[1;32m~\\anaconda3\\Lib\\site-packages\\pandas\\core\\groupby\\groupby.py:1711\u001B[0m, in \u001B[0;36mGroupBy._agg_general\u001B[1;34m(self, numeric_only, min_count, alias, npfunc)\u001B[0m\n\u001B[0;32m   1699\u001B[0m \u001B[38;5;129m@final\u001B[39m\n\u001B[0;32m   1700\u001B[0m \u001B[38;5;28;01mdef\u001B[39;00m \u001B[38;5;21m_agg_general\u001B[39m(\n\u001B[0;32m   1701\u001B[0m     \u001B[38;5;28mself\u001B[39m,\n\u001B[1;32m   (...)\u001B[0m\n\u001B[0;32m   1706\u001B[0m     npfunc: Callable,\n\u001B[0;32m   1707\u001B[0m ):\n\u001B[0;32m   1709\u001B[0m     \u001B[38;5;28;01mwith\u001B[39;00m \u001B[38;5;28mself\u001B[39m\u001B[38;5;241m.\u001B[39m_group_selection_context():\n\u001B[0;32m   1710\u001B[0m         \u001B[38;5;66;03m# try a cython aggregation if we can\u001B[39;00m\n\u001B[1;32m-> 1711\u001B[0m         result \u001B[38;5;241m=\u001B[39m \u001B[38;5;28mself\u001B[39m\u001B[38;5;241m.\u001B[39m_cython_agg_general(\n\u001B[0;32m   1712\u001B[0m             how\u001B[38;5;241m=\u001B[39malias,\n\u001B[0;32m   1713\u001B[0m             alt\u001B[38;5;241m=\u001B[39mnpfunc,\n\u001B[0;32m   1714\u001B[0m             numeric_only\u001B[38;5;241m=\u001B[39mnumeric_only,\n\u001B[0;32m   1715\u001B[0m             min_count\u001B[38;5;241m=\u001B[39mmin_count,\n\u001B[0;32m   1716\u001B[0m         )\n\u001B[0;32m   1717\u001B[0m         \u001B[38;5;28;01mreturn\u001B[39;00m result\u001B[38;5;241m.\u001B[39m__finalize__(\u001B[38;5;28mself\u001B[39m\u001B[38;5;241m.\u001B[39mobj, method\u001B[38;5;241m=\u001B[39m\u001B[38;5;124m\"\u001B[39m\u001B[38;5;124mgroupby\u001B[39m\u001B[38;5;124m\"\u001B[39m)\n",
      "File \u001B[1;32m~\\anaconda3\\Lib\\site-packages\\pandas\\core\\groupby\\groupby.py:1771\u001B[0m, in \u001B[0;36mGroupBy._cython_agg_general\u001B[1;34m(self, how, alt, numeric_only, min_count, ignore_failures, **kwargs)\u001B[0m\n\u001B[0;32m   1759\u001B[0m \u001B[38;5;129m@final\u001B[39m\n\u001B[0;32m   1760\u001B[0m \u001B[38;5;28;01mdef\u001B[39;00m \u001B[38;5;21m_cython_agg_general\u001B[39m(\n\u001B[0;32m   1761\u001B[0m     \u001B[38;5;28mself\u001B[39m,\n\u001B[1;32m   (...)\u001B[0m\n\u001B[0;32m   1769\u001B[0m     \u001B[38;5;66;03m# Note: we never get here with how=\"ohlc\" for DataFrameGroupBy;\u001B[39;00m\n\u001B[0;32m   1770\u001B[0m     \u001B[38;5;66;03m#  that goes through SeriesGroupBy\u001B[39;00m\n\u001B[1;32m-> 1771\u001B[0m     numeric_only_bool \u001B[38;5;241m=\u001B[39m \u001B[38;5;28mself\u001B[39m\u001B[38;5;241m.\u001B[39m_resolve_numeric_only(how, numeric_only, axis\u001B[38;5;241m=\u001B[39m\u001B[38;5;241m0\u001B[39m)\n\u001B[0;32m   1773\u001B[0m     data \u001B[38;5;241m=\u001B[39m \u001B[38;5;28mself\u001B[39m\u001B[38;5;241m.\u001B[39m_get_data_to_aggregate()\n\u001B[0;32m   1774\u001B[0m     is_ser \u001B[38;5;241m=\u001B[39m data\u001B[38;5;241m.\u001B[39mndim \u001B[38;5;241m==\u001B[39m \u001B[38;5;241m1\u001B[39m\n",
      "File \u001B[1;32m~\\anaconda3\\Lib\\site-packages\\pandas\\core\\groupby\\groupby.py:1359\u001B[0m, in \u001B[0;36mGroupBy._resolve_numeric_only\u001B[1;34m(self, how, numeric_only, axis)\u001B[0m\n\u001B[0;32m   1356\u001B[0m     \u001B[38;5;28;01melse\u001B[39;00m:\n\u001B[0;32m   1357\u001B[0m         numeric_only \u001B[38;5;241m=\u001B[39m \u001B[38;5;28;01mFalse\u001B[39;00m\n\u001B[1;32m-> 1359\u001B[0m \u001B[38;5;28;01mif\u001B[39;00m numeric_only \u001B[38;5;129;01mand\u001B[39;00m \u001B[38;5;28mself\u001B[39m\u001B[38;5;241m.\u001B[39mobj\u001B[38;5;241m.\u001B[39mndim \u001B[38;5;241m==\u001B[39m \u001B[38;5;241m1\u001B[39m \u001B[38;5;129;01mand\u001B[39;00m \u001B[38;5;129;01mnot\u001B[39;00m is_numeric_dtype(\u001B[38;5;28mself\u001B[39m\u001B[38;5;241m.\u001B[39mobj\u001B[38;5;241m.\u001B[39mdtype):\n\u001B[0;32m   1360\u001B[0m     \u001B[38;5;66;03m# GH#47500\u001B[39;00m\n\u001B[0;32m   1361\u001B[0m     warnings\u001B[38;5;241m.\u001B[39mwarn(\n\u001B[0;32m   1362\u001B[0m         \u001B[38;5;124mf\u001B[39m\u001B[38;5;124m\"\u001B[39m\u001B[38;5;132;01m{\u001B[39;00m\u001B[38;5;28mtype\u001B[39m(\u001B[38;5;28mself\u001B[39m)\u001B[38;5;241m.\u001B[39m\u001B[38;5;18m__name__\u001B[39m\u001B[38;5;132;01m}\u001B[39;00m\u001B[38;5;124m.\u001B[39m\u001B[38;5;132;01m{\u001B[39;00mhow\u001B[38;5;132;01m}\u001B[39;00m\u001B[38;5;124m called with \u001B[39m\u001B[38;5;124m\"\u001B[39m\n\u001B[0;32m   1363\u001B[0m         \u001B[38;5;124mf\u001B[39m\u001B[38;5;124m\"\u001B[39m\u001B[38;5;124mnumeric_only=\u001B[39m\u001B[38;5;132;01m{\u001B[39;00mnumeric_only\u001B[38;5;132;01m}\u001B[39;00m\u001B[38;5;124m and dtype \u001B[39m\u001B[38;5;132;01m{\u001B[39;00m\u001B[38;5;28mself\u001B[39m\u001B[38;5;241m.\u001B[39mobj\u001B[38;5;241m.\u001B[39mdtype\u001B[38;5;132;01m}\u001B[39;00m\u001B[38;5;124m. This will \u001B[39m\u001B[38;5;124m\"\u001B[39m\n\u001B[1;32m   (...)\u001B[0m\n\u001B[0;32m   1366\u001B[0m         stacklevel\u001B[38;5;241m=\u001B[39mfind_stack_level(),\n\u001B[0;32m   1367\u001B[0m     )\n\u001B[0;32m   1368\u001B[0m     \u001B[38;5;28;01mraise\u001B[39;00m \u001B[38;5;167;01mNotImplementedError\u001B[39;00m(\n\u001B[0;32m   1369\u001B[0m         \u001B[38;5;124mf\u001B[39m\u001B[38;5;124m\"\u001B[39m\u001B[38;5;132;01m{\u001B[39;00m\u001B[38;5;28mtype\u001B[39m(\u001B[38;5;28mself\u001B[39m)\u001B[38;5;241m.\u001B[39m\u001B[38;5;18m__name__\u001B[39m\u001B[38;5;132;01m}\u001B[39;00m\u001B[38;5;124m.\u001B[39m\u001B[38;5;132;01m{\u001B[39;00mhow\u001B[38;5;132;01m}\u001B[39;00m\u001B[38;5;124m does not implement numeric_only\u001B[39m\u001B[38;5;124m\"\u001B[39m\n\u001B[0;32m   1370\u001B[0m     )\n",
      "File \u001B[1;32m~\\anaconda3\\Lib\\site-packages\\pandas\\core\\generic.py:1527\u001B[0m, in \u001B[0;36mNDFrame.__nonzero__\u001B[1;34m(self)\u001B[0m\n\u001B[0;32m   1525\u001B[0m \u001B[38;5;129m@final\u001B[39m\n\u001B[0;32m   1526\u001B[0m \u001B[38;5;28;01mdef\u001B[39;00m \u001B[38;5;21m__nonzero__\u001B[39m(\u001B[38;5;28mself\u001B[39m) \u001B[38;5;241m-\u001B[39m\u001B[38;5;241m>\u001B[39m NoReturn:\n\u001B[1;32m-> 1527\u001B[0m     \u001B[38;5;28;01mraise\u001B[39;00m \u001B[38;5;167;01mValueError\u001B[39;00m(\n\u001B[0;32m   1528\u001B[0m         \u001B[38;5;124mf\u001B[39m\u001B[38;5;124m\"\u001B[39m\u001B[38;5;124mThe truth value of a \u001B[39m\u001B[38;5;132;01m{\u001B[39;00m\u001B[38;5;28mtype\u001B[39m(\u001B[38;5;28mself\u001B[39m)\u001B[38;5;241m.\u001B[39m\u001B[38;5;18m__name__\u001B[39m\u001B[38;5;132;01m}\u001B[39;00m\u001B[38;5;124m is ambiguous. \u001B[39m\u001B[38;5;124m\"\u001B[39m\n\u001B[0;32m   1529\u001B[0m         \u001B[38;5;124m\"\u001B[39m\u001B[38;5;124mUse a.empty, a.bool(), a.item(), a.any() or a.all().\u001B[39m\u001B[38;5;124m\"\u001B[39m\n\u001B[0;32m   1530\u001B[0m     )\n",
      "\u001B[1;31mValueError\u001B[0m: The truth value of a Series is ambiguous. Use a.empty, a.bool(), a.item(), a.any() or a.all()."
     ]
    }
   ],
   "source": [
    "grouped_data = df_filtered.groupby(df_filtered['разн тот51-тот']).sum(df_filtered['kef_TM'])"
   ],
   "metadata": {
    "collapsed": false,
    "ExecuteTime": {
     "end_time": "2024-02-11T14:03:21.819272300Z",
     "start_time": "2024-02-11T14:03:19.176389300Z"
    }
   },
   "id": "3ebf816ecb454f44",
   "execution_count": 17
  },
  {
   "cell_type": "code",
   "outputs": [],
   "source": [
    "max_value = grouped_data.idxmax()"
   ],
   "metadata": {
    "collapsed": false,
    "ExecuteTime": {
     "end_time": "2024-02-11T14:03:44.523898300Z",
     "start_time": "2024-02-11T14:03:44.499896900Z"
    }
   },
   "id": "d6f0e3d0bb5456ea",
   "execution_count": 18
  },
  {
   "cell_type": "code",
   "outputs": [
    {
     "data": {
      "text/plain": "-1"
     },
     "execution_count": 19,
     "metadata": {},
     "output_type": "execute_result"
    }
   ],
   "source": [
    "max_value"
   ],
   "metadata": {
    "collapsed": false,
    "ExecuteTime": {
     "end_time": "2024-02-11T14:03:50.182964500Z",
     "start_time": "2024-02-11T14:03:50.146435700Z"
    }
   },
   "id": "b1a61f9dbaa61413",
   "execution_count": 19
  },
  {
   "cell_type": "code",
   "outputs": [
    {
     "data": {
      "text/plain": "                                                data_game  kef_1  kef_2  tot  \\\nПортленд Уинтерхокс — Сиэтл Тандербердз        29.01.2024   1.25   7.10  7.5   \nМонреаль (GRIB4IK) — Ванкувер (GEENGA01)       31.12.2023   1.75   3.25  5.5   \nЛос-Анджелес (BALMY2820) — Колорадо (ZAMBONI)  02.01.2024   1.49   5.00  7.5   \nВиннипег (DARKTIME11) — Сан-Хосе (ALFADOGZZ)   01.01.2024   1.47   5.25  8.5   \nАйлендерс (TRUNKDRUNK) — Калгари (VLD08138)    04.02.2024   3.25   1.75  6.5   \n...                                                   ...    ...    ...  ...   \nСаммерленд Стим — Осойос Койотс                10.02.2024   2.75   2.00  7.5   \nЧикаго (EASYKATKA) — Ванкувер (KULIBANDA)      10.02.2024   1.32   6.35  5.5   \nВанкувер (KASPER) — Вашингтон (BIG_TOSTY)      10.02.2024   4.30   1.55  6.5   \nКаролина (FROSYA8) — Детройт (JASON_PLAY)      10.02.2024   4.70   1.43  5.5   \nКалгари (Iceman) — Флорида (Ovi)               10.02.2024   1.55   4.05  6.5   \n\n                                               tot20  tot40  tot51  sc51_1t  \\\nПортленд Уинтерхокс — Сиэтл Тандербердз            3      3      5        4   \nМонреаль (GRIB4IK) — Ванкувер (GEENGA01)           2      4      5        4   \nЛос-Анджелес (BALMY2820) — Колорадо (ZAMBONI)      3      6      6        3   \nВиннипег (DARKTIME11) — Сан-Хосе (ALFADOGZZ)       3      7      8        5   \nАйлендерс (TRUNKDRUNK) — Калгари (VLD08138)        3      7     10        3   \n...                                              ...    ...    ...      ...   \nСаммерленд Стим — Осойос Койотс                    0      0      0        0   \nЧикаго (EASYKATKA) — Ванкувер (KULIBANDA)          2      3      3        3   \nВанкувер (KASPER) — Вашингтон (BIG_TOSTY)          1      1      2        1   \nКаролина (FROSYA8) — Детройт (JASON_PLAY)          3      6      9        5   \nКалгари (Iceman) — Флорида (Ovi)                   3      5      5        4   \n\n                                               sc51_2t  abs_51  tot51_on_game  \\\nПортленд Уинтерхокс — Сиэтл Тандербердз              1       3            6.5   \nМонреаль (GRIB4IK) — Ванкувер (GEENGA01)             1       3            5.5   \nЛос-Анджелес (BALMY2820) — Колорадо (ZAMBONI)        3       0            7.5   \nВиннипег (DARKTIME11) — Сан-Хосе (ALFADOGZZ)         3       2            9.5   \nАйлендерс (TRUNKDRUNK) — Калгари (VLD08138)          7       4           11.5   \n...                                                ...     ...            ...   \nСаммерленд Стим — Осойос Койотс                      0       0            0.5   \nЧикаго (EASYKATKA) — Ванкувер (KULIBANDA)            0       3            3.5   \nВанкувер (KASPER) — Вашингтон (BIG_TOSTY)            1       0            3.5   \nКаролина (FROSYA8) — Детройт (JASON_PLAY)            4       1            9.5   \nКалгари (Iceman) — Флорида (Ovi)                     1       3            6.5   \n\n                                               разн тот51-тот  kef_TM  \\\nПортленд Уинтерхокс — Сиэтл Тандербердз                    -1    1.62   \nМонреаль (GRIB4IK) — Ванкувер (GEENGA01)                    0    2.55   \nЛос-Анджелес (BALMY2820) — Колорадо (ZAMBONI)               0    1.39   \nВиннипег (DARKTIME11) — Сан-Хосе (ALFADOGZZ)                1    1.67   \nАйлендерс (TRUNKDRUNK) — Калгари (VLD08138)                 5    1.55   \n...                                                       ...     ...   \nСаммерленд Стим — Осойос Койотс                            -7    1.95   \nЧикаго (EASYKATKA) — Ванкувер (KULIBANDA)                  -2    2.75   \nВанкувер (KASPER) — Вашингтон (BIG_TOSTY)                  -3    1.49   \nКаролина (FROSYA8) — Детройт (JASON_PLAY)                   4    2.65   \nКалгари (Iceman) — Флорида (Ovi)                            0    1.41   \n\n                                               Результат  \nПортленд Уинтерхокс — Сиэтл Тандербердз                1  \nМонреаль (GRIB4IK) — Ванкувер (GEENGA01)               1  \nЛос-Анджелес (BALMY2820) — Колорадо (ZAMBONI)          1  \nВиннипег (DARKTIME11) — Сан-Хосе (ALFADOGZZ)           1  \nАйлендерс (TRUNKDRUNK) — Калгари (VLD08138)            1  \n...                                                  ...  \nСаммерленд Стим — Осойос Койотс                        1  \nЧикаго (EASYKATKA) — Ванкувер (KULIBANDA)              1  \nВанкувер (KASPER) — Вашингтон (BIG_TOSTY)              1  \nКаролина (FROSYA8) — Детройт (JASON_PLAY)              1  \nКалгари (Iceman) — Флорида (Ovi)                       1  \n\n[1065 rows x 14 columns]",
      "text/html": "<div>\n<style scoped>\n    .dataframe tbody tr th:only-of-type {\n        vertical-align: middle;\n    }\n\n    .dataframe tbody tr th {\n        vertical-align: top;\n    }\n\n    .dataframe thead th {\n        text-align: right;\n    }\n</style>\n<table border=\"1\" class=\"dataframe\">\n  <thead>\n    <tr style=\"text-align: right;\">\n      <th></th>\n      <th>data_game</th>\n      <th>kef_1</th>\n      <th>kef_2</th>\n      <th>tot</th>\n      <th>tot20</th>\n      <th>tot40</th>\n      <th>tot51</th>\n      <th>sc51_1t</th>\n      <th>sc51_2t</th>\n      <th>abs_51</th>\n      <th>tot51_on_game</th>\n      <th>разн тот51-тот</th>\n      <th>kef_TM</th>\n      <th>Результат</th>\n    </tr>\n  </thead>\n  <tbody>\n    <tr>\n      <th>Портленд Уинтерхокс — Сиэтл Тандербердз</th>\n      <td>29.01.2024</td>\n      <td>1.25</td>\n      <td>7.10</td>\n      <td>7.5</td>\n      <td>3</td>\n      <td>3</td>\n      <td>5</td>\n      <td>4</td>\n      <td>1</td>\n      <td>3</td>\n      <td>6.5</td>\n      <td>-1</td>\n      <td>1.62</td>\n      <td>1</td>\n    </tr>\n    <tr>\n      <th>Монреаль (GRIB4IK) — Ванкувер (GEENGA01)</th>\n      <td>31.12.2023</td>\n      <td>1.75</td>\n      <td>3.25</td>\n      <td>5.5</td>\n      <td>2</td>\n      <td>4</td>\n      <td>5</td>\n      <td>4</td>\n      <td>1</td>\n      <td>3</td>\n      <td>5.5</td>\n      <td>0</td>\n      <td>2.55</td>\n      <td>1</td>\n    </tr>\n    <tr>\n      <th>Лос-Анджелес (BALMY2820) — Колорадо (ZAMBONI)</th>\n      <td>02.01.2024</td>\n      <td>1.49</td>\n      <td>5.00</td>\n      <td>7.5</td>\n      <td>3</td>\n      <td>6</td>\n      <td>6</td>\n      <td>3</td>\n      <td>3</td>\n      <td>0</td>\n      <td>7.5</td>\n      <td>0</td>\n      <td>1.39</td>\n      <td>1</td>\n    </tr>\n    <tr>\n      <th>Виннипег (DARKTIME11) — Сан-Хосе (ALFADOGZZ)</th>\n      <td>01.01.2024</td>\n      <td>1.47</td>\n      <td>5.25</td>\n      <td>8.5</td>\n      <td>3</td>\n      <td>7</td>\n      <td>8</td>\n      <td>5</td>\n      <td>3</td>\n      <td>2</td>\n      <td>9.5</td>\n      <td>1</td>\n      <td>1.67</td>\n      <td>1</td>\n    </tr>\n    <tr>\n      <th>Айлендерс (TRUNKDRUNK) — Калгари (VLD08138)</th>\n      <td>04.02.2024</td>\n      <td>3.25</td>\n      <td>1.75</td>\n      <td>6.5</td>\n      <td>3</td>\n      <td>7</td>\n      <td>10</td>\n      <td>3</td>\n      <td>7</td>\n      <td>4</td>\n      <td>11.5</td>\n      <td>5</td>\n      <td>1.55</td>\n      <td>1</td>\n    </tr>\n    <tr>\n      <th>...</th>\n      <td>...</td>\n      <td>...</td>\n      <td>...</td>\n      <td>...</td>\n      <td>...</td>\n      <td>...</td>\n      <td>...</td>\n      <td>...</td>\n      <td>...</td>\n      <td>...</td>\n      <td>...</td>\n      <td>...</td>\n      <td>...</td>\n      <td>...</td>\n    </tr>\n    <tr>\n      <th>Саммерленд Стим — Осойос Койотс</th>\n      <td>10.02.2024</td>\n      <td>2.75</td>\n      <td>2.00</td>\n      <td>7.5</td>\n      <td>0</td>\n      <td>0</td>\n      <td>0</td>\n      <td>0</td>\n      <td>0</td>\n      <td>0</td>\n      <td>0.5</td>\n      <td>-7</td>\n      <td>1.95</td>\n      <td>1</td>\n    </tr>\n    <tr>\n      <th>Чикаго (EASYKATKA) — Ванкувер (KULIBANDA)</th>\n      <td>10.02.2024</td>\n      <td>1.32</td>\n      <td>6.35</td>\n      <td>5.5</td>\n      <td>2</td>\n      <td>3</td>\n      <td>3</td>\n      <td>3</td>\n      <td>0</td>\n      <td>3</td>\n      <td>3.5</td>\n      <td>-2</td>\n      <td>2.75</td>\n      <td>1</td>\n    </tr>\n    <tr>\n      <th>Ванкувер (KASPER) — Вашингтон (BIG_TOSTY)</th>\n      <td>10.02.2024</td>\n      <td>4.30</td>\n      <td>1.55</td>\n      <td>6.5</td>\n      <td>1</td>\n      <td>1</td>\n      <td>2</td>\n      <td>1</td>\n      <td>1</td>\n      <td>0</td>\n      <td>3.5</td>\n      <td>-3</td>\n      <td>1.49</td>\n      <td>1</td>\n    </tr>\n    <tr>\n      <th>Каролина (FROSYA8) — Детройт (JASON_PLAY)</th>\n      <td>10.02.2024</td>\n      <td>4.70</td>\n      <td>1.43</td>\n      <td>5.5</td>\n      <td>3</td>\n      <td>6</td>\n      <td>9</td>\n      <td>5</td>\n      <td>4</td>\n      <td>1</td>\n      <td>9.5</td>\n      <td>4</td>\n      <td>2.65</td>\n      <td>1</td>\n    </tr>\n    <tr>\n      <th>Калгари (Iceman) — Флорида (Ovi)</th>\n      <td>10.02.2024</td>\n      <td>1.55</td>\n      <td>4.05</td>\n      <td>6.5</td>\n      <td>3</td>\n      <td>5</td>\n      <td>5</td>\n      <td>4</td>\n      <td>1</td>\n      <td>3</td>\n      <td>6.5</td>\n      <td>0</td>\n      <td>1.41</td>\n      <td>1</td>\n    </tr>\n  </tbody>\n</table>\n<p>1065 rows × 14 columns</p>\n</div>"
     },
     "execution_count": 20,
     "metadata": {},
     "output_type": "execute_result"
    }
   ],
   "source": [
    "df_filtered"
   ],
   "metadata": {
    "collapsed": false,
    "ExecuteTime": {
     "end_time": "2024-02-11T14:04:09.538398300Z",
     "start_time": "2024-02-11T14:04:09.487393700Z"
    }
   },
   "id": "99e907ec8bd2f8ae",
   "execution_count": 20
  },
  {
   "cell_type": "code",
   "outputs": [],
   "source": [
    "\n",
    "# Группировка по признаку 'разн тот51-тот' и вычисление сумм признака 'kef_TM' по значениям признака 'Результат'\n",
    "grouped = df.groupby('разн тот51-тот')['kef_TM'].sum()\n",
    "\n",
    "# Разность сумм для каждой группы\n",
    "diff = grouped[1] - grouped[0]\n",
    "\n",
    "# Нахождение диапазона значений 'разн тот51-тот', для которого разность сумм наибольшая\n",
    "# max_diff_range = diff.idxmax()\n",
    "\n",
    "# print(f\"Наибольшая разность сумм признака 'kef_TM' получается в диапазоне значений 'разн тот51-тот': {max_diff_range}\")\n"
   ],
   "metadata": {
    "collapsed": false,
    "ExecuteTime": {
     "end_time": "2024-02-11T14:50:34.815611800Z",
     "start_time": "2024-02-11T14:50:34.770104100Z"
    }
   },
   "id": "36d55e012fc92588",
   "execution_count": 30
  },
  {
   "cell_type": "code",
   "outputs": [
    {
     "data": {
      "text/plain": "-59.83000000000004"
     },
     "execution_count": 26,
     "metadata": {},
     "output_type": "execute_result"
    }
   ],
   "source": [
    "diff"
   ],
   "metadata": {
    "collapsed": false,
    "ExecuteTime": {
     "end_time": "2024-02-11T14:41:43.076844400Z",
     "start_time": "2024-02-11T14:41:43.038841300Z"
    }
   },
   "id": "552054c7f354c641",
   "execution_count": 26
  },
  {
   "cell_type": "code",
   "outputs": [
    {
     "data": {
      "text/plain": "разн тот51-тот\n-7       3.37\n-6       5.60\n-5      62.75\n-4     132.12\n-3     322.24\n-2     523.81\n-1     551.42\n 0     536.20\n 1     476.37\n 2     371.23\n 3     206.89\n 4     107.34\n 5     100.71\n 6      42.60\n 7      22.72\n 8       4.77\n 11      1.99\nName: kef_TM, dtype: float64"
     },
     "execution_count": 31,
     "metadata": {},
     "output_type": "execute_result"
    }
   ],
   "source": [
    "grouped"
   ],
   "metadata": {
    "collapsed": false,
    "ExecuteTime": {
     "end_time": "2024-02-11T14:50:37.927302700Z",
     "start_time": "2024-02-11T14:50:37.891782900Z"
    }
   },
   "id": "a9d0d23ee1d22b32",
   "execution_count": 31
  },
  {
   "cell_type": "code",
   "outputs": [],
   "source": [
    "bins = [min(df['разн тот51-тот']), 0, (max(df['разн тот51-тот']) + 1)]\n",
    "labels = ['Negative', 'Zero', 'Positive']"
   ],
   "metadata": {
    "collapsed": false,
    "ExecuteTime": {
     "end_time": "2024-02-11T14:55:49.152942100Z",
     "start_time": "2024-02-11T14:55:49.114938200Z"
    }
   },
   "id": "cf348f8d1c024cda",
   "execution_count": 33
  },
  {
   "cell_type": "code",
   "outputs": [
    {
     "ename": "ValueError",
     "evalue": "Bin labels must be one fewer than the number of bin edges",
     "output_type": "error",
     "traceback": [
      "\u001B[1;31m---------------------------------------------------------------------------\u001B[0m",
      "\u001B[1;31mValueError\u001B[0m                                Traceback (most recent call last)",
      "Cell \u001B[1;32mIn[34], line 1\u001B[0m\n\u001B[1;32m----> 1\u001B[0m df[\u001B[38;5;124m'\u001B[39m\u001B[38;5;124mrange\u001B[39m\u001B[38;5;124m'\u001B[39m] \u001B[38;5;241m=\u001B[39m pd\u001B[38;5;241m.\u001B[39mcut(df[\u001B[38;5;124m'\u001B[39m\u001B[38;5;124mразн тот51-тот\u001B[39m\u001B[38;5;124m'\u001B[39m], bins\u001B[38;5;241m=\u001B[39mbins, labels\u001B[38;5;241m=\u001B[39mlabels)\n",
      "File \u001B[1;32m~\\anaconda3\\Lib\\site-packages\\pandas\\core\\reshape\\tile.py:293\u001B[0m, in \u001B[0;36mcut\u001B[1;34m(x, bins, right, labels, retbins, precision, include_lowest, duplicates, ordered)\u001B[0m\n\u001B[0;32m    290\u001B[0m     \u001B[38;5;28;01mif\u001B[39;00m (np\u001B[38;5;241m.\u001B[39mdiff(bins\u001B[38;5;241m.\u001B[39mastype(\u001B[38;5;124m\"\u001B[39m\u001B[38;5;124mfloat64\u001B[39m\u001B[38;5;124m\"\u001B[39m)) \u001B[38;5;241m<\u001B[39m \u001B[38;5;241m0\u001B[39m)\u001B[38;5;241m.\u001B[39many():\n\u001B[0;32m    291\u001B[0m         \u001B[38;5;28;01mraise\u001B[39;00m \u001B[38;5;167;01mValueError\u001B[39;00m(\u001B[38;5;124m\"\u001B[39m\u001B[38;5;124mbins must increase monotonically.\u001B[39m\u001B[38;5;124m\"\u001B[39m)\n\u001B[1;32m--> 293\u001B[0m fac, bins \u001B[38;5;241m=\u001B[39m _bins_to_cuts(\n\u001B[0;32m    294\u001B[0m     x,\n\u001B[0;32m    295\u001B[0m     bins,\n\u001B[0;32m    296\u001B[0m     right\u001B[38;5;241m=\u001B[39mright,\n\u001B[0;32m    297\u001B[0m     labels\u001B[38;5;241m=\u001B[39mlabels,\n\u001B[0;32m    298\u001B[0m     precision\u001B[38;5;241m=\u001B[39mprecision,\n\u001B[0;32m    299\u001B[0m     include_lowest\u001B[38;5;241m=\u001B[39minclude_lowest,\n\u001B[0;32m    300\u001B[0m     dtype\u001B[38;5;241m=\u001B[39mdtype,\n\u001B[0;32m    301\u001B[0m     duplicates\u001B[38;5;241m=\u001B[39mduplicates,\n\u001B[0;32m    302\u001B[0m     ordered\u001B[38;5;241m=\u001B[39mordered,\n\u001B[0;32m    303\u001B[0m )\n\u001B[0;32m    305\u001B[0m \u001B[38;5;28;01mreturn\u001B[39;00m _postprocess_for_cut(fac, bins, retbins, dtype, original)\n",
      "File \u001B[1;32m~\\anaconda3\\Lib\\site-packages\\pandas\\core\\reshape\\tile.py:454\u001B[0m, in \u001B[0;36m_bins_to_cuts\u001B[1;34m(x, bins, right, labels, precision, include_lowest, dtype, duplicates, ordered)\u001B[0m\n\u001B[0;32m    452\u001B[0m \u001B[38;5;28;01melse\u001B[39;00m:\n\u001B[0;32m    453\u001B[0m     \u001B[38;5;28;01mif\u001B[39;00m \u001B[38;5;28mlen\u001B[39m(labels) \u001B[38;5;241m!=\u001B[39m \u001B[38;5;28mlen\u001B[39m(bins) \u001B[38;5;241m-\u001B[39m \u001B[38;5;241m1\u001B[39m:\n\u001B[1;32m--> 454\u001B[0m         \u001B[38;5;28;01mraise\u001B[39;00m \u001B[38;5;167;01mValueError\u001B[39;00m(\n\u001B[0;32m    455\u001B[0m             \u001B[38;5;124m\"\u001B[39m\u001B[38;5;124mBin labels must be one fewer than the number of bin edges\u001B[39m\u001B[38;5;124m\"\u001B[39m\n\u001B[0;32m    456\u001B[0m         )\n\u001B[0;32m    457\u001B[0m \u001B[38;5;28;01mif\u001B[39;00m \u001B[38;5;129;01mnot\u001B[39;00m is_categorical_dtype(labels):\n\u001B[0;32m    458\u001B[0m     labels \u001B[38;5;241m=\u001B[39m Categorical(\n\u001B[0;32m    459\u001B[0m         labels,\n\u001B[0;32m    460\u001B[0m         categories\u001B[38;5;241m=\u001B[39mlabels \u001B[38;5;28;01mif\u001B[39;00m \u001B[38;5;28mlen\u001B[39m(\u001B[38;5;28mset\u001B[39m(labels)) \u001B[38;5;241m==\u001B[39m \u001B[38;5;28mlen\u001B[39m(labels) \u001B[38;5;28;01melse\u001B[39;00m \u001B[38;5;28;01mNone\u001B[39;00m,\n\u001B[0;32m    461\u001B[0m         ordered\u001B[38;5;241m=\u001B[39mordered,\n\u001B[0;32m    462\u001B[0m     )\n",
      "\u001B[1;31mValueError\u001B[0m: Bin labels must be one fewer than the number of bin edges"
     ]
    }
   ],
   "source": [
    "df['range'] = pd.cut(df['разн тот51-тот'], bins=bins, labels=labels)"
   ],
   "metadata": {
    "collapsed": false,
    "ExecuteTime": {
     "end_time": "2024-02-11T14:56:18.064849Z",
     "start_time": "2024-02-11T14:56:17.861240600Z"
    }
   },
   "id": "9cd4c9874ab63099",
   "execution_count": 34
  },
  {
   "cell_type": "code",
   "outputs": [],
   "source": [
    "positive_sum = df[df['Результат'] == 1]['kef_TM'].sum()\n",
    "negative_sum = df[df['Результат'] == 0]['kef_TM'].sum()\n",
    "max_difference = positive_sum - negative_sum\n",
    "\n",
    "# print(“Максимальная разница:”, max_difference)"
   ],
   "metadata": {
    "collapsed": false,
    "ExecuteTime": {
     "end_time": "2024-02-11T14:57:14.734130200Z",
     "start_time": "2024-02-11T14:57:14.696105500Z"
    }
   },
   "id": "245ca0f6795a4faf",
   "execution_count": 35
  },
  {
   "cell_type": "code",
   "outputs": [
    {
     "data": {
      "text/plain": "248.40999999999985"
     },
     "execution_count": 36,
     "metadata": {},
     "output_type": "execute_result"
    }
   ],
   "source": [
    "max_difference"
   ],
   "metadata": {
    "collapsed": false,
    "ExecuteTime": {
     "end_time": "2024-02-11T14:57:25.332406900Z",
     "start_time": "2024-02-11T14:57:25.299368600Z"
    }
   },
   "id": "6527853ad82f3d64",
   "execution_count": 36
  },
  {
   "cell_type": "code",
   "outputs": [],
   "source": [
    "df_grouped = df.groupby('разн тот51-тот')['kef_TM'].sum().reset_index()"
   ],
   "metadata": {
    "collapsed": false,
    "ExecuteTime": {
     "end_time": "2024-02-11T15:16:40.322824800Z",
     "start_time": "2024-02-11T15:16:40.282048Z"
    }
   },
   "id": "8bdb8c320635dfed",
   "execution_count": 37
  },
  {
   "cell_type": "code",
   "outputs": [
    {
     "name": "stdout",
     "output_type": "stream",
     "text": [
      "0 1.3800000000000001\n",
      "1 3.6099999999999994\n",
      "2 60.76\n",
      "3 130.13\n",
      "4 320.25\n",
      "5 521.8199999999999\n",
      "6 549.43\n",
      "7 534.21\n",
      "8 474.38\n",
      "9 369.24\n",
      "10 204.89999999999998\n",
      "11 105.35000000000001\n",
      "12 98.72\n",
      "13 40.61\n",
      "14 20.73\n",
      "15 2.7800000000000002\n"
     ]
    }
   ],
   "source": [
    "max_diff = 0\n",
    "best_range = None\n",
    "for i in range(len(df_grouped)-1):\n",
    "    diff = abs(df_grouped['kef_TM'][i] - df_grouped['kef_TM'][len(df_grouped)-1])\n",
    "    print(i, diff)\n",
    "    if diff > max_diff:\n",
    "        max_diff = diff\n",
    "        best_range = (df_grouped['разн тот51-тот'][i], df_grouped['разн тот51-тот'][len(df_grouped)-1])"
   ],
   "metadata": {
    "collapsed": false,
    "ExecuteTime": {
     "end_time": "2024-02-11T15:24:18.498419600Z",
     "start_time": "2024-02-11T15:24:18.443360100Z"
    }
   },
   "id": "5773164a4199be1a",
   "execution_count": 44
  },
  {
   "cell_type": "code",
   "outputs": [
    {
     "name": "stdout",
     "output_type": "stream",
     "text": [
      "Наибольшая разность суммы kef_TM при 'Результат' равном 1 и 0 достигается в диапазоне: (-1, 11)\n"
     ]
    }
   ],
   "source": [
    "print(\"Наибольшая разность суммы kef_TM при 'Результат' равном 1 и 0 достигается в диапазоне:\", best_range)"
   ],
   "metadata": {
    "collapsed": false,
    "ExecuteTime": {
     "end_time": "2024-02-11T15:17:31.455841100Z",
     "start_time": "2024-02-11T15:17:31.429783400Z"
    }
   },
   "id": "57855e5344f425b2",
   "execution_count": 39
  },
  {
   "cell_type": "code",
   "outputs": [
    {
     "data": {
      "text/plain": "    разн тот51-тот  kef_TM\n0               -7    3.37\n1               -6    5.60\n2               -5   62.75\n3               -4  132.12\n4               -3  322.24\n5               -2  523.81\n6               -1  551.42\n7                0  536.20\n8                1  476.37\n9                2  371.23\n10               3  206.89\n11               4  107.34\n12               5  100.71\n13               6   42.60\n14               7   22.72\n15               8    4.77\n16              11    1.99",
      "text/html": "<div>\n<style scoped>\n    .dataframe tbody tr th:only-of-type {\n        vertical-align: middle;\n    }\n\n    .dataframe tbody tr th {\n        vertical-align: top;\n    }\n\n    .dataframe thead th {\n        text-align: right;\n    }\n</style>\n<table border=\"1\" class=\"dataframe\">\n  <thead>\n    <tr style=\"text-align: right;\">\n      <th></th>\n      <th>разн тот51-тот</th>\n      <th>kef_TM</th>\n    </tr>\n  </thead>\n  <tbody>\n    <tr>\n      <th>0</th>\n      <td>-7</td>\n      <td>3.37</td>\n    </tr>\n    <tr>\n      <th>1</th>\n      <td>-6</td>\n      <td>5.60</td>\n    </tr>\n    <tr>\n      <th>2</th>\n      <td>-5</td>\n      <td>62.75</td>\n    </tr>\n    <tr>\n      <th>3</th>\n      <td>-4</td>\n      <td>132.12</td>\n    </tr>\n    <tr>\n      <th>4</th>\n      <td>-3</td>\n      <td>322.24</td>\n    </tr>\n    <tr>\n      <th>5</th>\n      <td>-2</td>\n      <td>523.81</td>\n    </tr>\n    <tr>\n      <th>6</th>\n      <td>-1</td>\n      <td>551.42</td>\n    </tr>\n    <tr>\n      <th>7</th>\n      <td>0</td>\n      <td>536.20</td>\n    </tr>\n    <tr>\n      <th>8</th>\n      <td>1</td>\n      <td>476.37</td>\n    </tr>\n    <tr>\n      <th>9</th>\n      <td>2</td>\n      <td>371.23</td>\n    </tr>\n    <tr>\n      <th>10</th>\n      <td>3</td>\n      <td>206.89</td>\n    </tr>\n    <tr>\n      <th>11</th>\n      <td>4</td>\n      <td>107.34</td>\n    </tr>\n    <tr>\n      <th>12</th>\n      <td>5</td>\n      <td>100.71</td>\n    </tr>\n    <tr>\n      <th>13</th>\n      <td>6</td>\n      <td>42.60</td>\n    </tr>\n    <tr>\n      <th>14</th>\n      <td>7</td>\n      <td>22.72</td>\n    </tr>\n    <tr>\n      <th>15</th>\n      <td>8</td>\n      <td>4.77</td>\n    </tr>\n    <tr>\n      <th>16</th>\n      <td>11</td>\n      <td>1.99</td>\n    </tr>\n  </tbody>\n</table>\n</div>"
     },
     "execution_count": 42,
     "metadata": {},
     "output_type": "execute_result"
    }
   ],
   "source": [
    "df_grouped"
   ],
   "metadata": {
    "collapsed": false,
    "ExecuteTime": {
     "end_time": "2024-02-11T15:20:34.478736600Z",
     "start_time": "2024-02-11T15:20:34.424218Z"
    }
   },
   "id": "6bc755f8ae8cd305",
   "execution_count": 42
  },
  {
   "cell_type": "code",
   "outputs": [],
   "source": [
    "df_grouped = df.groupby('разн тот51-тот').agg({'kef_TM':'sum', 'Результат':'count'}).reset_index()"
   ],
   "metadata": {
    "collapsed": false,
    "ExecuteTime": {
     "end_time": "2024-02-11T15:39:23.735607100Z",
     "start_time": "2024-02-11T15:39:23.683093200Z"
    }
   },
   "id": "15019029424643f4",
   "execution_count": 50
  },
  {
   "cell_type": "code",
   "outputs": [
    {
     "data": {
      "text/plain": "    разн тот51-тот  kef_TM  Результат\n0               -7    3.37          2\n1               -6    5.60          3\n2               -5   62.75         28\n3               -4  132.12         54\n4               -3  322.24        155\n5               -2  523.81        253\n6               -1  551.42        290\n7                0  536.20        292\n8                1  476.37        280\n9                2  371.23        215\n10               3  206.89        125\n11               4  107.34         64\n12               5  100.71         60\n13               6   42.60         24\n14               7   22.72         13\n15               8    4.77          3\n16              11    1.99          1",
      "text/html": "<div>\n<style scoped>\n    .dataframe tbody tr th:only-of-type {\n        vertical-align: middle;\n    }\n\n    .dataframe tbody tr th {\n        vertical-align: top;\n    }\n\n    .dataframe thead th {\n        text-align: right;\n    }\n</style>\n<table border=\"1\" class=\"dataframe\">\n  <thead>\n    <tr style=\"text-align: right;\">\n      <th></th>\n      <th>разн тот51-тот</th>\n      <th>kef_TM</th>\n      <th>Результат</th>\n    </tr>\n  </thead>\n  <tbody>\n    <tr>\n      <th>0</th>\n      <td>-7</td>\n      <td>3.37</td>\n      <td>2</td>\n    </tr>\n    <tr>\n      <th>1</th>\n      <td>-6</td>\n      <td>5.60</td>\n      <td>3</td>\n    </tr>\n    <tr>\n      <th>2</th>\n      <td>-5</td>\n      <td>62.75</td>\n      <td>28</td>\n    </tr>\n    <tr>\n      <th>3</th>\n      <td>-4</td>\n      <td>132.12</td>\n      <td>54</td>\n    </tr>\n    <tr>\n      <th>4</th>\n      <td>-3</td>\n      <td>322.24</td>\n      <td>155</td>\n    </tr>\n    <tr>\n      <th>5</th>\n      <td>-2</td>\n      <td>523.81</td>\n      <td>253</td>\n    </tr>\n    <tr>\n      <th>6</th>\n      <td>-1</td>\n      <td>551.42</td>\n      <td>290</td>\n    </tr>\n    <tr>\n      <th>7</th>\n      <td>0</td>\n      <td>536.20</td>\n      <td>292</td>\n    </tr>\n    <tr>\n      <th>8</th>\n      <td>1</td>\n      <td>476.37</td>\n      <td>280</td>\n    </tr>\n    <tr>\n      <th>9</th>\n      <td>2</td>\n      <td>371.23</td>\n      <td>215</td>\n    </tr>\n    <tr>\n      <th>10</th>\n      <td>3</td>\n      <td>206.89</td>\n      <td>125</td>\n    </tr>\n    <tr>\n      <th>11</th>\n      <td>4</td>\n      <td>107.34</td>\n      <td>64</td>\n    </tr>\n    <tr>\n      <th>12</th>\n      <td>5</td>\n      <td>100.71</td>\n      <td>60</td>\n    </tr>\n    <tr>\n      <th>13</th>\n      <td>6</td>\n      <td>42.60</td>\n      <td>24</td>\n    </tr>\n    <tr>\n      <th>14</th>\n      <td>7</td>\n      <td>22.72</td>\n      <td>13</td>\n    </tr>\n    <tr>\n      <th>15</th>\n      <td>8</td>\n      <td>4.77</td>\n      <td>3</td>\n    </tr>\n    <tr>\n      <th>16</th>\n      <td>11</td>\n      <td>1.99</td>\n      <td>1</td>\n    </tr>\n  </tbody>\n</table>\n</div>"
     },
     "execution_count": 51,
     "metadata": {},
     "output_type": "execute_result"
    }
   ],
   "source": [
    "df_grouped"
   ],
   "metadata": {
    "collapsed": false,
    "ExecuteTime": {
     "end_time": "2024-02-11T15:39:25.877406100Z",
     "start_time": "2024-02-11T15:39:25.848349500Z"
    }
   },
   "id": "7055ac427ea31d05",
   "execution_count": 51
  },
  {
   "cell_type": "code",
   "outputs": [
    {
     "name": "stdout",
     "output_type": "stream",
     "text": [
      "0.3800000000000001\n",
      "1.6099999999999994\n",
      "33.76\n",
      "77.13\n",
      "166.25\n",
      "269.81999999999994\n",
      "260.42999999999995\n",
      "243.21000000000004\n",
      "195.38\n",
      "155.24\n",
      "80.89999999999998\n",
      "42.35000000000001\n",
      "39.72\n",
      "17.61\n",
      "8.73\n",
      "0.7800000000000002\n"
     ]
    }
   ],
   "source": [
    "max_diff = 0\n",
    "best_range = None\n",
    "for i in range(len(df_grouped)-1):\n",
    "    diff = abs((df_grouped['kef_TM'][i] - df_grouped['kef_TM'][len(df_grouped)-1]) - (df_grouped['Результат'][i] - df_grouped['Результат'][len(df_grouped)-1]))\n",
    "    print(diff)\n",
    "    if diff > max_diff:\n",
    "        max_diff = diff\n",
    "        best_range = (df_grouped['разн тот51-тот'][i], df_grouped['разн тот51-тот'][len(df_grouped)-1])"
   ],
   "metadata": {
    "collapsed": false,
    "ExecuteTime": {
     "end_time": "2024-02-11T15:38:30.089844500Z",
     "start_time": "2024-02-11T15:38:30.024324400Z"
    }
   },
   "id": "fb6b112a5ebb1fd1",
   "execution_count": 49
  },
  {
   "cell_type": "code",
   "outputs": [
    {
     "name": "stdout",
     "output_type": "stream",
     "text": [
      "Наибольшая разность суммы kef_TM при 'Результат' равном 1 и количеством объектов в диапазоне достигается в диапазоне: (-2, 11)\n"
     ]
    }
   ],
   "source": [
    "print(\"Наибольшая разность суммы kef_TM при 'Результат' равном 1 и количеством объектов в диапазоне достигается в диапазоне:\", best_range)"
   ],
   "metadata": {
    "collapsed": false,
    "ExecuteTime": {
     "end_time": "2024-02-11T15:37:49.913727700Z",
     "start_time": "2024-02-11T15:37:49.873088400Z"
    }
   },
   "id": "142a605d82d1be46",
   "execution_count": 47
  },
  {
   "cell_type": "code",
   "outputs": [],
   "source": [],
   "metadata": {
    "collapsed": false
   },
   "id": "9885162e41562fb0"
  }
 ],
 "metadata": {
  "kernelspec": {
   "display_name": "Python 3",
   "language": "python",
   "name": "python3"
  },
  "language_info": {
   "codemirror_mode": {
    "name": "ipython",
    "version": 2
   },
   "file_extension": ".py",
   "mimetype": "text/x-python",
   "name": "python",
   "nbconvert_exporter": "python",
   "pygments_lexer": "ipython2",
   "version": "2.7.6"
  }
 },
 "nbformat": 4,
 "nbformat_minor": 5
}
